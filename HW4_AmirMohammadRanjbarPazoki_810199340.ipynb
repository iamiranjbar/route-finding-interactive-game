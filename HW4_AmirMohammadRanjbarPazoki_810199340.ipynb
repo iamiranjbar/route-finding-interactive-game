{
 "cells": [
  {
   "cell_type": "markdown",
   "metadata": {},
   "source": [
    "# Environment"
   ]
  },
  {
   "cell_type": "code",
   "execution_count": 1,
   "metadata": {
    "id": "PpNeLPdclEYF"
   },
   "outputs": [],
   "source": [
    "import random\n",
    "import pprint\n",
    "import io\n",
    "import numpy as np\n",
    "import sys\n",
    "from gym.envs.toy_text import discrete\n",
    "from colorama import Fore, Back, Style\n",
    "\n",
    "UP = 0\n",
    "RIGHT = 1\n",
    "DOWN = 2\n",
    "LEFT = 3\n",
    "\n",
    "class GridworldEnv(discrete.DiscreteEnv):\n",
    "  metadata = {'render.modes': ['human', 'ansi']}\n",
    "\n",
    "  def __init__(self, shape=[10,10]):\n",
    "    if not isinstance(shape, (list, tuple)) or not len(shape) == 2:\n",
    "        raise ValueError('shape argument must be a list/tuple of length 2')\n",
    "        \n",
    "    self.shape = shape\n",
    "\n",
    "    nS = np.prod(shape)\n",
    "    nA = 4\n",
    "\n",
    "    MAX_Y = shape[0]\n",
    "    MAX_X = shape[1]\n",
    "\n",
    "    P = {}\n",
    "    grid = np.arange(nS).reshape(shape)\n",
    "    it = np.nditer(grid, flags=['multi_index'])\n",
    "\n",
    "    while not it.finished:\n",
    "      s = it.iterindex\n",
    "      y, x = it.multi_index\n",
    "\n",
    "      P[s] = {a : [] for a in range(nA)}\n",
    "\n",
    "      #Reaching target\n",
    "      is_done = lambda s: s == 0\n",
    "\n",
    "      #Due to existance of walls, these moves are not available\n",
    "      no_up = lambda s: s in [44,73,74]\n",
    "      no_down = lambda s: s in [23,24,54]\n",
    "      no_left = lambda s: s in [44,35,54,65]\n",
    "      no_right = lambda s: s in [32,42,52,62]\n",
    "\n",
    "      #Barries in the path\n",
    "      pit = lambda s: s in [13,72,41]\n",
    "      wall = lambda s: s in [43,33,53,34,64,63]\n",
    "\n",
    "      #Rewards of each state\n",
    "      reward = 3.0 if is_done(s) else 0.0\n",
    "      reward = -15.0 if pit(s) else reward\n",
    "      \n",
    "      ns_up = s if y == 0 else s - MAX_X\n",
    "      ns_right = s if x == (MAX_X - 1) else s + 1\n",
    "      ns_down = s if y == (MAX_Y - 1) else s + MAX_X\n",
    "      ns_left = s if x == 0 else s - 1\n",
    "      \n",
    "      P[s][UP] = [(1, ns_up, reward, is_done(ns_up))]\n",
    "      P[s][RIGHT] = [(1.0, ns_right, reward, is_done(ns_right))]\n",
    "      P[s][DOWN] = [(1, ns_down, reward, is_done(ns_down))]\n",
    "      P[s][LEFT] = [(1, ns_left, reward, is_done(ns_left))]\n",
    "\n",
    "      #Terminal state\n",
    "      if is_done(s):\n",
    "        P[s][UP] = [(1.0, s, reward, True)]\n",
    "        P[s][RIGHT] = [(1.0, s, reward, True)]\n",
    "        P[s][DOWN] = [(1.0, s, reward, True)]\n",
    "        P[s][LEFT] = [(1.0, s, reward, True)]\n",
    "\n",
    "      #Encountering walls\n",
    "      if no_up(s):\n",
    "        P[s][UP] = [(1.0, s, -5.0 , False)]                \n",
    "      if no_down(s):\n",
    "        P[s][DOWN] = [(1.0, s, -5.0 , False)]                \n",
    "      if no_right(s):\n",
    "        P[s][RIGHT] = [(1.0, s, -5.0 , False)]  \n",
    "      if no_left(s):\n",
    "        P[s][LEFT] = [(1.0, s, -5.0 , False)] \n",
    "\n",
    "      it.iternext() \n",
    "\n",
    "    # Initial state distribution is uniform\n",
    "    isd = np.zeros(100)\n",
    "    isd[44]=1\n",
    "    self.P = P\n",
    "\n",
    "    super(GridworldEnv, self).__init__(nS, nA, P, isd)\n",
    "\n",
    "  def _render(self, mode='human', close=False):\n",
    "    if close:\n",
    "      return\n",
    "\n",
    "    outfile = io.StringIO() if mode == 'ansi' else sys.stdout\n",
    "\n",
    "    grid = np.arange(self.nS).reshape(self.shape)\n",
    "    it = np.nditer(grid, flags=['multi_index'])\n",
    "\n",
    "    while not it.finished:\n",
    "      s = it.iterindex\n",
    "      y, x = it.multi_index\n",
    "\n",
    "      if self.s == s and not s==0:\n",
    "        output =  Back.CYAN + Style.BRIGHT + Fore.WHITE +  \"  웃 \" + Style.RESET_ALL if s not in [13,72,41] else Back.BLUE + Style.BRIGHT + Fore.WHITE + \"  웃 \" + Style.RESET_ALL\n",
    "      elif s == 0:\n",
    "          output = Back.GREEN + Style.BRIGHT + Fore.WHITE + \"     \" + Style.RESET_ALL if not self.s==0 else Back.GREEN + Style.BRIGHT + Fore.WHITE +  \"  웃 \" + Style.RESET_ALL\n",
    "      elif s in [13,72,41]:\n",
    "          output = Back.BLUE + \"     \" + Style.RESET_ALL\n",
    "      elif s in [43,33,53,34,64,63]:\n",
    "          output = Back.CYAN + Style.BRIGHT + Fore.BLACK +   \"  █  \"  + Style.RESET_ALL\n",
    "      else:\n",
    "          output = Back.CYAN + Style.BRIGHT + Fore.BLACK +  \"  .  \" + Style.RESET_ALL\n",
    "\n",
    "      if x == 0:\n",
    "          output = output.lstrip()\n",
    "      if x == self.shape[1] - 1:\n",
    "          output = output.rstrip()\n",
    "\n",
    "      outfile.write(output)\n",
    "\n",
    "      if x == self.shape[1] - 1:\n",
    "          outfile.write(\"\\n\")\n",
    "\n",
    "      it.iternext()"
   ]
  },
  {
   "cell_type": "markdown",
   "metadata": {
    "id": "T_-Io6eu6Muz"
   },
   "source": [
    "### How to use the above class? ###"
   ]
  },
  {
   "cell_type": "code",
   "execution_count": 2,
   "metadata": {
    "colab": {
     "base_uri": "https://localhost:8080/"
    },
    "id": "eoM-4yHklEYM",
    "outputId": "462ae8cc-83ae-4575-9b25-dd3506ca883b"
   },
   "outputs": [
    {
     "name": "stdout",
     "output_type": "stream",
     "text": [
      "\u001b[42m\u001b[1m\u001b[37m     \u001b[0m\u001b[46m\u001b[1m\u001b[30m  .  \u001b[0m\u001b[46m\u001b[1m\u001b[30m  .  \u001b[0m\u001b[46m\u001b[1m\u001b[30m  .  \u001b[0m\u001b[46m\u001b[1m\u001b[30m  .  \u001b[0m\u001b[46m\u001b[1m\u001b[30m  .  \u001b[0m\u001b[46m\u001b[1m\u001b[30m  .  \u001b[0m\u001b[46m\u001b[1m\u001b[30m  .  \u001b[0m\u001b[46m\u001b[1m\u001b[30m  .  \u001b[0m\u001b[46m\u001b[1m\u001b[30m  .  \u001b[0m\n",
      "\u001b[46m\u001b[1m\u001b[30m  .  \u001b[0m\u001b[46m\u001b[1m\u001b[30m  .  \u001b[0m\u001b[46m\u001b[1m\u001b[30m  .  \u001b[0m\u001b[44m     \u001b[0m\u001b[46m\u001b[1m\u001b[30m  .  \u001b[0m\u001b[46m\u001b[1m\u001b[30m  .  \u001b[0m\u001b[46m\u001b[1m\u001b[30m  .  \u001b[0m\u001b[46m\u001b[1m\u001b[30m  .  \u001b[0m\u001b[46m\u001b[1m\u001b[30m  .  \u001b[0m\u001b[46m\u001b[1m\u001b[30m  .  \u001b[0m\n",
      "\u001b[46m\u001b[1m\u001b[30m  .  \u001b[0m\u001b[46m\u001b[1m\u001b[30m  .  \u001b[0m\u001b[46m\u001b[1m\u001b[30m  .  \u001b[0m\u001b[46m\u001b[1m\u001b[30m  .  \u001b[0m\u001b[46m\u001b[1m\u001b[30m  .  \u001b[0m\u001b[46m\u001b[1m\u001b[30m  .  \u001b[0m\u001b[46m\u001b[1m\u001b[30m  .  \u001b[0m\u001b[46m\u001b[1m\u001b[30m  .  \u001b[0m\u001b[46m\u001b[1m\u001b[30m  .  \u001b[0m\u001b[46m\u001b[1m\u001b[30m  .  \u001b[0m\n",
      "\u001b[46m\u001b[1m\u001b[30m  .  \u001b[0m\u001b[46m\u001b[1m\u001b[30m  .  \u001b[0m\u001b[46m\u001b[1m\u001b[30m  .  \u001b[0m\u001b[46m\u001b[1m\u001b[30m  █  \u001b[0m\u001b[46m\u001b[1m\u001b[30m  █  \u001b[0m\u001b[46m\u001b[1m\u001b[30m  .  \u001b[0m\u001b[46m\u001b[1m\u001b[30m  .  \u001b[0m\u001b[46m\u001b[1m\u001b[30m  .  \u001b[0m\u001b[46m\u001b[1m\u001b[30m  .  \u001b[0m\u001b[46m\u001b[1m\u001b[30m  .  \u001b[0m\n",
      "\u001b[46m\u001b[1m\u001b[30m  .  \u001b[0m\u001b[44m     \u001b[0m\u001b[46m\u001b[1m\u001b[30m  .  \u001b[0m\u001b[46m\u001b[1m\u001b[30m  █  \u001b[0m\u001b[46m\u001b[1m\u001b[37m  웃 \u001b[0m\u001b[46m\u001b[1m\u001b[30m  .  \u001b[0m\u001b[46m\u001b[1m\u001b[30m  .  \u001b[0m\u001b[46m\u001b[1m\u001b[30m  .  \u001b[0m\u001b[46m\u001b[1m\u001b[30m  .  \u001b[0m\u001b[46m\u001b[1m\u001b[30m  .  \u001b[0m\n",
      "\u001b[46m\u001b[1m\u001b[30m  .  \u001b[0m\u001b[46m\u001b[1m\u001b[30m  .  \u001b[0m\u001b[46m\u001b[1m\u001b[30m  .  \u001b[0m\u001b[46m\u001b[1m\u001b[30m  █  \u001b[0m\u001b[46m\u001b[1m\u001b[30m  .  \u001b[0m\u001b[46m\u001b[1m\u001b[30m  .  \u001b[0m\u001b[46m\u001b[1m\u001b[30m  .  \u001b[0m\u001b[46m\u001b[1m\u001b[30m  .  \u001b[0m\u001b[46m\u001b[1m\u001b[30m  .  \u001b[0m\u001b[46m\u001b[1m\u001b[30m  .  \u001b[0m\n",
      "\u001b[46m\u001b[1m\u001b[30m  .  \u001b[0m\u001b[46m\u001b[1m\u001b[30m  .  \u001b[0m\u001b[46m\u001b[1m\u001b[30m  .  \u001b[0m\u001b[46m\u001b[1m\u001b[30m  █  \u001b[0m\u001b[46m\u001b[1m\u001b[30m  █  \u001b[0m\u001b[46m\u001b[1m\u001b[30m  .  \u001b[0m\u001b[46m\u001b[1m\u001b[30m  .  \u001b[0m\u001b[46m\u001b[1m\u001b[30m  .  \u001b[0m\u001b[46m\u001b[1m\u001b[30m  .  \u001b[0m\u001b[46m\u001b[1m\u001b[30m  .  \u001b[0m\n",
      "\u001b[46m\u001b[1m\u001b[30m  .  \u001b[0m\u001b[46m\u001b[1m\u001b[30m  .  \u001b[0m\u001b[44m     \u001b[0m\u001b[46m\u001b[1m\u001b[30m  .  \u001b[0m\u001b[46m\u001b[1m\u001b[30m  .  \u001b[0m\u001b[46m\u001b[1m\u001b[30m  .  \u001b[0m\u001b[46m\u001b[1m\u001b[30m  .  \u001b[0m\u001b[46m\u001b[1m\u001b[30m  .  \u001b[0m\u001b[46m\u001b[1m\u001b[30m  .  \u001b[0m\u001b[46m\u001b[1m\u001b[30m  .  \u001b[0m\n",
      "\u001b[46m\u001b[1m\u001b[30m  .  \u001b[0m\u001b[46m\u001b[1m\u001b[30m  .  \u001b[0m\u001b[46m\u001b[1m\u001b[30m  .  \u001b[0m\u001b[46m\u001b[1m\u001b[30m  .  \u001b[0m\u001b[46m\u001b[1m\u001b[30m  .  \u001b[0m\u001b[46m\u001b[1m\u001b[30m  .  \u001b[0m\u001b[46m\u001b[1m\u001b[30m  .  \u001b[0m\u001b[46m\u001b[1m\u001b[30m  .  \u001b[0m\u001b[46m\u001b[1m\u001b[30m  .  \u001b[0m\u001b[46m\u001b[1m\u001b[30m  .  \u001b[0m\n",
      "\u001b[46m\u001b[1m\u001b[30m  .  \u001b[0m\u001b[46m\u001b[1m\u001b[30m  .  \u001b[0m\u001b[46m\u001b[1m\u001b[30m  .  \u001b[0m\u001b[46m\u001b[1m\u001b[30m  .  \u001b[0m\u001b[46m\u001b[1m\u001b[30m  .  \u001b[0m\u001b[46m\u001b[1m\u001b[30m  .  \u001b[0m\u001b[46m\u001b[1m\u001b[30m  .  \u001b[0m\u001b[46m\u001b[1m\u001b[30m  .  \u001b[0m\u001b[46m\u001b[1m\u001b[30m  .  \u001b[0m\u001b[46m\u001b[1m\u001b[30m  .  \u001b[0m\n",
      "{'prob': 1.0}\n",
      "action: 3\n",
      "\u001b[42m\u001b[1m\u001b[37m     \u001b[0m\u001b[46m\u001b[1m\u001b[30m  .  \u001b[0m\u001b[46m\u001b[1m\u001b[30m  .  \u001b[0m\u001b[46m\u001b[1m\u001b[30m  .  \u001b[0m\u001b[46m\u001b[1m\u001b[30m  .  \u001b[0m\u001b[46m\u001b[1m\u001b[30m  .  \u001b[0m\u001b[46m\u001b[1m\u001b[30m  .  \u001b[0m\u001b[46m\u001b[1m\u001b[30m  .  \u001b[0m\u001b[46m\u001b[1m\u001b[30m  .  \u001b[0m\u001b[46m\u001b[1m\u001b[30m  .  \u001b[0m\n",
      "\u001b[46m\u001b[1m\u001b[30m  .  \u001b[0m\u001b[46m\u001b[1m\u001b[30m  .  \u001b[0m\u001b[46m\u001b[1m\u001b[30m  .  \u001b[0m\u001b[44m     \u001b[0m\u001b[46m\u001b[1m\u001b[30m  .  \u001b[0m\u001b[46m\u001b[1m\u001b[30m  .  \u001b[0m\u001b[46m\u001b[1m\u001b[30m  .  \u001b[0m\u001b[46m\u001b[1m\u001b[30m  .  \u001b[0m\u001b[46m\u001b[1m\u001b[30m  .  \u001b[0m\u001b[46m\u001b[1m\u001b[30m  .  \u001b[0m\n",
      "\u001b[46m\u001b[1m\u001b[30m  .  \u001b[0m\u001b[46m\u001b[1m\u001b[30m  .  \u001b[0m\u001b[46m\u001b[1m\u001b[30m  .  \u001b[0m\u001b[46m\u001b[1m\u001b[30m  .  \u001b[0m\u001b[46m\u001b[1m\u001b[30m  .  \u001b[0m\u001b[46m\u001b[1m\u001b[30m  .  \u001b[0m\u001b[46m\u001b[1m\u001b[30m  .  \u001b[0m\u001b[46m\u001b[1m\u001b[30m  .  \u001b[0m\u001b[46m\u001b[1m\u001b[30m  .  \u001b[0m\u001b[46m\u001b[1m\u001b[30m  .  \u001b[0m\n",
      "\u001b[46m\u001b[1m\u001b[30m  .  \u001b[0m\u001b[46m\u001b[1m\u001b[30m  .  \u001b[0m\u001b[46m\u001b[1m\u001b[30m  .  \u001b[0m\u001b[46m\u001b[1m\u001b[30m  █  \u001b[0m\u001b[46m\u001b[1m\u001b[30m  █  \u001b[0m\u001b[46m\u001b[1m\u001b[30m  .  \u001b[0m\u001b[46m\u001b[1m\u001b[30m  .  \u001b[0m\u001b[46m\u001b[1m\u001b[30m  .  \u001b[0m\u001b[46m\u001b[1m\u001b[30m  .  \u001b[0m\u001b[46m\u001b[1m\u001b[30m  .  \u001b[0m\n",
      "\u001b[46m\u001b[1m\u001b[30m  .  \u001b[0m\u001b[44m     \u001b[0m\u001b[46m\u001b[1m\u001b[30m  .  \u001b[0m\u001b[46m\u001b[1m\u001b[30m  █  \u001b[0m\u001b[46m\u001b[1m\u001b[37m  웃 \u001b[0m\u001b[46m\u001b[1m\u001b[30m  .  \u001b[0m\u001b[46m\u001b[1m\u001b[30m  .  \u001b[0m\u001b[46m\u001b[1m\u001b[30m  .  \u001b[0m\u001b[46m\u001b[1m\u001b[30m  .  \u001b[0m\u001b[46m\u001b[1m\u001b[30m  .  \u001b[0m\n",
      "\u001b[46m\u001b[1m\u001b[30m  .  \u001b[0m\u001b[46m\u001b[1m\u001b[30m  .  \u001b[0m\u001b[46m\u001b[1m\u001b[30m  .  \u001b[0m\u001b[46m\u001b[1m\u001b[30m  █  \u001b[0m\u001b[46m\u001b[1m\u001b[30m  .  \u001b[0m\u001b[46m\u001b[1m\u001b[30m  .  \u001b[0m\u001b[46m\u001b[1m\u001b[30m  .  \u001b[0m\u001b[46m\u001b[1m\u001b[30m  .  \u001b[0m\u001b[46m\u001b[1m\u001b[30m  .  \u001b[0m\u001b[46m\u001b[1m\u001b[30m  .  \u001b[0m\n",
      "\u001b[46m\u001b[1m\u001b[30m  .  \u001b[0m\u001b[46m\u001b[1m\u001b[30m  .  \u001b[0m\u001b[46m\u001b[1m\u001b[30m  .  \u001b[0m\u001b[46m\u001b[1m\u001b[30m  █  \u001b[0m\u001b[46m\u001b[1m\u001b[30m  █  \u001b[0m\u001b[46m\u001b[1m\u001b[30m  .  \u001b[0m\u001b[46m\u001b[1m\u001b[30m  .  \u001b[0m\u001b[46m\u001b[1m\u001b[30m  .  \u001b[0m\u001b[46m\u001b[1m\u001b[30m  .  \u001b[0m\u001b[46m\u001b[1m\u001b[30m  .  \u001b[0m\n",
      "\u001b[46m\u001b[1m\u001b[30m  .  \u001b[0m\u001b[46m\u001b[1m\u001b[30m  .  \u001b[0m\u001b[44m     \u001b[0m\u001b[46m\u001b[1m\u001b[30m  .  \u001b[0m\u001b[46m\u001b[1m\u001b[30m  .  \u001b[0m\u001b[46m\u001b[1m\u001b[30m  .  \u001b[0m\u001b[46m\u001b[1m\u001b[30m  .  \u001b[0m\u001b[46m\u001b[1m\u001b[30m  .  \u001b[0m\u001b[46m\u001b[1m\u001b[30m  .  \u001b[0m\u001b[46m\u001b[1m\u001b[30m  .  \u001b[0m\n",
      "\u001b[46m\u001b[1m\u001b[30m  .  \u001b[0m\u001b[46m\u001b[1m\u001b[30m  .  \u001b[0m\u001b[46m\u001b[1m\u001b[30m  .  \u001b[0m\u001b[46m\u001b[1m\u001b[30m  .  \u001b[0m\u001b[46m\u001b[1m\u001b[30m  .  \u001b[0m\u001b[46m\u001b[1m\u001b[30m  .  \u001b[0m\u001b[46m\u001b[1m\u001b[30m  .  \u001b[0m\u001b[46m\u001b[1m\u001b[30m  .  \u001b[0m\u001b[46m\u001b[1m\u001b[30m  .  \u001b[0m\u001b[46m\u001b[1m\u001b[30m  .  \u001b[0m\n",
      "\u001b[46m\u001b[1m\u001b[30m  .  \u001b[0m\u001b[46m\u001b[1m\u001b[30m  .  \u001b[0m\u001b[46m\u001b[1m\u001b[30m  .  \u001b[0m\u001b[46m\u001b[1m\u001b[30m  .  \u001b[0m\u001b[46m\u001b[1m\u001b[30m  .  \u001b[0m\u001b[46m\u001b[1m\u001b[30m  .  \u001b[0m\u001b[46m\u001b[1m\u001b[30m  .  \u001b[0m\u001b[46m\u001b[1m\u001b[30m  .  \u001b[0m\u001b[46m\u001b[1m\u001b[30m  .  \u001b[0m\u001b[46m\u001b[1m\u001b[30m  .  \u001b[0m\n",
      "{'prob': 1.0}\n",
      "action: 3\n",
      "\u001b[42m\u001b[1m\u001b[37m     \u001b[0m\u001b[46m\u001b[1m\u001b[30m  .  \u001b[0m\u001b[46m\u001b[1m\u001b[30m  .  \u001b[0m\u001b[46m\u001b[1m\u001b[30m  .  \u001b[0m\u001b[46m\u001b[1m\u001b[30m  .  \u001b[0m\u001b[46m\u001b[1m\u001b[30m  .  \u001b[0m\u001b[46m\u001b[1m\u001b[30m  .  \u001b[0m\u001b[46m\u001b[1m\u001b[30m  .  \u001b[0m\u001b[46m\u001b[1m\u001b[30m  .  \u001b[0m\u001b[46m\u001b[1m\u001b[30m  .  \u001b[0m\n",
      "\u001b[46m\u001b[1m\u001b[30m  .  \u001b[0m\u001b[46m\u001b[1m\u001b[30m  .  \u001b[0m\u001b[46m\u001b[1m\u001b[30m  .  \u001b[0m\u001b[44m     \u001b[0m\u001b[46m\u001b[1m\u001b[30m  .  \u001b[0m\u001b[46m\u001b[1m\u001b[30m  .  \u001b[0m\u001b[46m\u001b[1m\u001b[30m  .  \u001b[0m\u001b[46m\u001b[1m\u001b[30m  .  \u001b[0m\u001b[46m\u001b[1m\u001b[30m  .  \u001b[0m\u001b[46m\u001b[1m\u001b[30m  .  \u001b[0m\n",
      "\u001b[46m\u001b[1m\u001b[30m  .  \u001b[0m\u001b[46m\u001b[1m\u001b[30m  .  \u001b[0m\u001b[46m\u001b[1m\u001b[30m  .  \u001b[0m\u001b[46m\u001b[1m\u001b[30m  .  \u001b[0m\u001b[46m\u001b[1m\u001b[30m  .  \u001b[0m\u001b[46m\u001b[1m\u001b[30m  .  \u001b[0m\u001b[46m\u001b[1m\u001b[30m  .  \u001b[0m\u001b[46m\u001b[1m\u001b[30m  .  \u001b[0m\u001b[46m\u001b[1m\u001b[30m  .  \u001b[0m\u001b[46m\u001b[1m\u001b[30m  .  \u001b[0m\n",
      "\u001b[46m\u001b[1m\u001b[30m  .  \u001b[0m\u001b[46m\u001b[1m\u001b[30m  .  \u001b[0m\u001b[46m\u001b[1m\u001b[30m  .  \u001b[0m\u001b[46m\u001b[1m\u001b[30m  █  \u001b[0m\u001b[46m\u001b[1m\u001b[30m  █  \u001b[0m\u001b[46m\u001b[1m\u001b[30m  .  \u001b[0m\u001b[46m\u001b[1m\u001b[30m  .  \u001b[0m\u001b[46m\u001b[1m\u001b[30m  .  \u001b[0m\u001b[46m\u001b[1m\u001b[30m  .  \u001b[0m\u001b[46m\u001b[1m\u001b[30m  .  \u001b[0m\n",
      "\u001b[46m\u001b[1m\u001b[30m  .  \u001b[0m\u001b[44m     \u001b[0m\u001b[46m\u001b[1m\u001b[30m  .  \u001b[0m\u001b[46m\u001b[1m\u001b[30m  █  \u001b[0m\u001b[46m\u001b[1m\u001b[37m  웃 \u001b[0m\u001b[46m\u001b[1m\u001b[30m  .  \u001b[0m\u001b[46m\u001b[1m\u001b[30m  .  \u001b[0m\u001b[46m\u001b[1m\u001b[30m  .  \u001b[0m\u001b[46m\u001b[1m\u001b[30m  .  \u001b[0m\u001b[46m\u001b[1m\u001b[30m  .  \u001b[0m\n",
      "\u001b[46m\u001b[1m\u001b[30m  .  \u001b[0m\u001b[46m\u001b[1m\u001b[30m  .  \u001b[0m\u001b[46m\u001b[1m\u001b[30m  .  \u001b[0m\u001b[46m\u001b[1m\u001b[30m  █  \u001b[0m\u001b[46m\u001b[1m\u001b[30m  .  \u001b[0m\u001b[46m\u001b[1m\u001b[30m  .  \u001b[0m\u001b[46m\u001b[1m\u001b[30m  .  \u001b[0m\u001b[46m\u001b[1m\u001b[30m  .  \u001b[0m\u001b[46m\u001b[1m\u001b[30m  .  \u001b[0m\u001b[46m\u001b[1m\u001b[30m  .  \u001b[0m\n",
      "\u001b[46m\u001b[1m\u001b[30m  .  \u001b[0m\u001b[46m\u001b[1m\u001b[30m  .  \u001b[0m\u001b[46m\u001b[1m\u001b[30m  .  \u001b[0m\u001b[46m\u001b[1m\u001b[30m  █  \u001b[0m\u001b[46m\u001b[1m\u001b[30m  █  \u001b[0m\u001b[46m\u001b[1m\u001b[30m  .  \u001b[0m\u001b[46m\u001b[1m\u001b[30m  .  \u001b[0m\u001b[46m\u001b[1m\u001b[30m  .  \u001b[0m\u001b[46m\u001b[1m\u001b[30m  .  \u001b[0m\u001b[46m\u001b[1m\u001b[30m  .  \u001b[0m\n",
      "\u001b[46m\u001b[1m\u001b[30m  .  \u001b[0m\u001b[46m\u001b[1m\u001b[30m  .  \u001b[0m\u001b[44m     \u001b[0m\u001b[46m\u001b[1m\u001b[30m  .  \u001b[0m\u001b[46m\u001b[1m\u001b[30m  .  \u001b[0m\u001b[46m\u001b[1m\u001b[30m  .  \u001b[0m\u001b[46m\u001b[1m\u001b[30m  .  \u001b[0m\u001b[46m\u001b[1m\u001b[30m  .  \u001b[0m\u001b[46m\u001b[1m\u001b[30m  .  \u001b[0m\u001b[46m\u001b[1m\u001b[30m  .  \u001b[0m\n",
      "\u001b[46m\u001b[1m\u001b[30m  .  \u001b[0m\u001b[46m\u001b[1m\u001b[30m  .  \u001b[0m\u001b[46m\u001b[1m\u001b[30m  .  \u001b[0m\u001b[46m\u001b[1m\u001b[30m  .  \u001b[0m\u001b[46m\u001b[1m\u001b[30m  .  \u001b[0m\u001b[46m\u001b[1m\u001b[30m  .  \u001b[0m\u001b[46m\u001b[1m\u001b[30m  .  \u001b[0m\u001b[46m\u001b[1m\u001b[30m  .  \u001b[0m\u001b[46m\u001b[1m\u001b[30m  .  \u001b[0m\u001b[46m\u001b[1m\u001b[30m  .  \u001b[0m\n",
      "\u001b[46m\u001b[1m\u001b[30m  .  \u001b[0m\u001b[46m\u001b[1m\u001b[30m  .  \u001b[0m\u001b[46m\u001b[1m\u001b[30m  .  \u001b[0m\u001b[46m\u001b[1m\u001b[30m  .  \u001b[0m\u001b[46m\u001b[1m\u001b[30m  .  \u001b[0m\u001b[46m\u001b[1m\u001b[30m  .  \u001b[0m\u001b[46m\u001b[1m\u001b[30m  .  \u001b[0m\u001b[46m\u001b[1m\u001b[30m  .  \u001b[0m\u001b[46m\u001b[1m\u001b[30m  .  \u001b[0m\u001b[46m\u001b[1m\u001b[30m  .  \u001b[0m\n",
      "{'prob': 1.0}\n",
      "action: 3\n",
      "\u001b[42m\u001b[1m\u001b[37m     \u001b[0m\u001b[46m\u001b[1m\u001b[30m  .  \u001b[0m\u001b[46m\u001b[1m\u001b[30m  .  \u001b[0m\u001b[46m\u001b[1m\u001b[30m  .  \u001b[0m\u001b[46m\u001b[1m\u001b[30m  .  \u001b[0m\u001b[46m\u001b[1m\u001b[30m  .  \u001b[0m\u001b[46m\u001b[1m\u001b[30m  .  \u001b[0m\u001b[46m\u001b[1m\u001b[30m  .  \u001b[0m\u001b[46m\u001b[1m\u001b[30m  .  \u001b[0m\u001b[46m\u001b[1m\u001b[30m  .  \u001b[0m\n",
      "\u001b[46m\u001b[1m\u001b[30m  .  \u001b[0m\u001b[46m\u001b[1m\u001b[30m  .  \u001b[0m\u001b[46m\u001b[1m\u001b[30m  .  \u001b[0m\u001b[44m     \u001b[0m\u001b[46m\u001b[1m\u001b[30m  .  \u001b[0m\u001b[46m\u001b[1m\u001b[30m  .  \u001b[0m\u001b[46m\u001b[1m\u001b[30m  .  \u001b[0m\u001b[46m\u001b[1m\u001b[30m  .  \u001b[0m\u001b[46m\u001b[1m\u001b[30m  .  \u001b[0m\u001b[46m\u001b[1m\u001b[30m  .  \u001b[0m\n",
      "\u001b[46m\u001b[1m\u001b[30m  .  \u001b[0m\u001b[46m\u001b[1m\u001b[30m  .  \u001b[0m\u001b[46m\u001b[1m\u001b[30m  .  \u001b[0m\u001b[46m\u001b[1m\u001b[30m  .  \u001b[0m\u001b[46m\u001b[1m\u001b[30m  .  \u001b[0m\u001b[46m\u001b[1m\u001b[30m  .  \u001b[0m\u001b[46m\u001b[1m\u001b[30m  .  \u001b[0m\u001b[46m\u001b[1m\u001b[30m  .  \u001b[0m\u001b[46m\u001b[1m\u001b[30m  .  \u001b[0m\u001b[46m\u001b[1m\u001b[30m  .  \u001b[0m\n",
      "\u001b[46m\u001b[1m\u001b[30m  .  \u001b[0m\u001b[46m\u001b[1m\u001b[30m  .  \u001b[0m\u001b[46m\u001b[1m\u001b[30m  .  \u001b[0m\u001b[46m\u001b[1m\u001b[30m  █  \u001b[0m\u001b[46m\u001b[1m\u001b[30m  █  \u001b[0m\u001b[46m\u001b[1m\u001b[30m  .  \u001b[0m\u001b[46m\u001b[1m\u001b[30m  .  \u001b[0m\u001b[46m\u001b[1m\u001b[30m  .  \u001b[0m\u001b[46m\u001b[1m\u001b[30m  .  \u001b[0m\u001b[46m\u001b[1m\u001b[30m  .  \u001b[0m\n",
      "\u001b[46m\u001b[1m\u001b[30m  .  \u001b[0m\u001b[44m     \u001b[0m\u001b[46m\u001b[1m\u001b[30m  .  \u001b[0m\u001b[46m\u001b[1m\u001b[30m  █  \u001b[0m\u001b[46m\u001b[1m\u001b[37m  웃 \u001b[0m\u001b[46m\u001b[1m\u001b[30m  .  \u001b[0m\u001b[46m\u001b[1m\u001b[30m  .  \u001b[0m\u001b[46m\u001b[1m\u001b[30m  .  \u001b[0m\u001b[46m\u001b[1m\u001b[30m  .  \u001b[0m\u001b[46m\u001b[1m\u001b[30m  .  \u001b[0m\n",
      "\u001b[46m\u001b[1m\u001b[30m  .  \u001b[0m\u001b[46m\u001b[1m\u001b[30m  .  \u001b[0m\u001b[46m\u001b[1m\u001b[30m  .  \u001b[0m\u001b[46m\u001b[1m\u001b[30m  █  \u001b[0m\u001b[46m\u001b[1m\u001b[30m  .  \u001b[0m\u001b[46m\u001b[1m\u001b[30m  .  \u001b[0m\u001b[46m\u001b[1m\u001b[30m  .  \u001b[0m\u001b[46m\u001b[1m\u001b[30m  .  \u001b[0m\u001b[46m\u001b[1m\u001b[30m  .  \u001b[0m\u001b[46m\u001b[1m\u001b[30m  .  \u001b[0m\n",
      "\u001b[46m\u001b[1m\u001b[30m  .  \u001b[0m\u001b[46m\u001b[1m\u001b[30m  .  \u001b[0m\u001b[46m\u001b[1m\u001b[30m  .  \u001b[0m\u001b[46m\u001b[1m\u001b[30m  █  \u001b[0m\u001b[46m\u001b[1m\u001b[30m  █  \u001b[0m\u001b[46m\u001b[1m\u001b[30m  .  \u001b[0m\u001b[46m\u001b[1m\u001b[30m  .  \u001b[0m\u001b[46m\u001b[1m\u001b[30m  .  \u001b[0m\u001b[46m\u001b[1m\u001b[30m  .  \u001b[0m\u001b[46m\u001b[1m\u001b[30m  .  \u001b[0m\n",
      "\u001b[46m\u001b[1m\u001b[30m  .  \u001b[0m\u001b[46m\u001b[1m\u001b[30m  .  \u001b[0m\u001b[44m     \u001b[0m\u001b[46m\u001b[1m\u001b[30m  .  \u001b[0m\u001b[46m\u001b[1m\u001b[30m  .  \u001b[0m\u001b[46m\u001b[1m\u001b[30m  .  \u001b[0m\u001b[46m\u001b[1m\u001b[30m  .  \u001b[0m\u001b[46m\u001b[1m\u001b[30m  .  \u001b[0m\u001b[46m\u001b[1m\u001b[30m  .  \u001b[0m\u001b[46m\u001b[1m\u001b[30m  .  \u001b[0m\n",
      "\u001b[46m\u001b[1m\u001b[30m  .  \u001b[0m\u001b[46m\u001b[1m\u001b[30m  .  \u001b[0m\u001b[46m\u001b[1m\u001b[30m  .  \u001b[0m\u001b[46m\u001b[1m\u001b[30m  .  \u001b[0m\u001b[46m\u001b[1m\u001b[30m  .  \u001b[0m\u001b[46m\u001b[1m\u001b[30m  .  \u001b[0m\u001b[46m\u001b[1m\u001b[30m  .  \u001b[0m\u001b[46m\u001b[1m\u001b[30m  .  \u001b[0m\u001b[46m\u001b[1m\u001b[30m  .  \u001b[0m\u001b[46m\u001b[1m\u001b[30m  .  \u001b[0m\n",
      "\u001b[46m\u001b[1m\u001b[30m  .  \u001b[0m\u001b[46m\u001b[1m\u001b[30m  .  \u001b[0m\u001b[46m\u001b[1m\u001b[30m  .  \u001b[0m\u001b[46m\u001b[1m\u001b[30m  .  \u001b[0m\u001b[46m\u001b[1m\u001b[30m  .  \u001b[0m\u001b[46m\u001b[1m\u001b[30m  .  \u001b[0m\u001b[46m\u001b[1m\u001b[30m  .  \u001b[0m\u001b[46m\u001b[1m\u001b[30m  .  \u001b[0m\u001b[46m\u001b[1m\u001b[30m  .  \u001b[0m\u001b[46m\u001b[1m\u001b[30m  .  \u001b[0m\n",
      "{'prob': 1.0}\n",
      "action: 0\n",
      "\u001b[42m\u001b[1m\u001b[37m     \u001b[0m\u001b[46m\u001b[1m\u001b[30m  .  \u001b[0m\u001b[46m\u001b[1m\u001b[30m  .  \u001b[0m\u001b[46m\u001b[1m\u001b[30m  .  \u001b[0m\u001b[46m\u001b[1m\u001b[30m  .  \u001b[0m\u001b[46m\u001b[1m\u001b[30m  .  \u001b[0m\u001b[46m\u001b[1m\u001b[30m  .  \u001b[0m\u001b[46m\u001b[1m\u001b[30m  .  \u001b[0m\u001b[46m\u001b[1m\u001b[30m  .  \u001b[0m\u001b[46m\u001b[1m\u001b[30m  .  \u001b[0m\n",
      "\u001b[46m\u001b[1m\u001b[30m  .  \u001b[0m\u001b[46m\u001b[1m\u001b[30m  .  \u001b[0m\u001b[46m\u001b[1m\u001b[30m  .  \u001b[0m\u001b[44m     \u001b[0m\u001b[46m\u001b[1m\u001b[30m  .  \u001b[0m\u001b[46m\u001b[1m\u001b[30m  .  \u001b[0m\u001b[46m\u001b[1m\u001b[30m  .  \u001b[0m\u001b[46m\u001b[1m\u001b[30m  .  \u001b[0m\u001b[46m\u001b[1m\u001b[30m  .  \u001b[0m\u001b[46m\u001b[1m\u001b[30m  .  \u001b[0m\n",
      "\u001b[46m\u001b[1m\u001b[30m  .  \u001b[0m\u001b[46m\u001b[1m\u001b[30m  .  \u001b[0m\u001b[46m\u001b[1m\u001b[30m  .  \u001b[0m\u001b[46m\u001b[1m\u001b[30m  .  \u001b[0m\u001b[46m\u001b[1m\u001b[30m  .  \u001b[0m\u001b[46m\u001b[1m\u001b[30m  .  \u001b[0m\u001b[46m\u001b[1m\u001b[30m  .  \u001b[0m\u001b[46m\u001b[1m\u001b[30m  .  \u001b[0m\u001b[46m\u001b[1m\u001b[30m  .  \u001b[0m\u001b[46m\u001b[1m\u001b[30m  .  \u001b[0m\n",
      "\u001b[46m\u001b[1m\u001b[30m  .  \u001b[0m\u001b[46m\u001b[1m\u001b[30m  .  \u001b[0m\u001b[46m\u001b[1m\u001b[30m  .  \u001b[0m\u001b[46m\u001b[1m\u001b[30m  █  \u001b[0m\u001b[46m\u001b[1m\u001b[30m  █  \u001b[0m\u001b[46m\u001b[1m\u001b[30m  .  \u001b[0m\u001b[46m\u001b[1m\u001b[30m  .  \u001b[0m\u001b[46m\u001b[1m\u001b[30m  .  \u001b[0m\u001b[46m\u001b[1m\u001b[30m  .  \u001b[0m\u001b[46m\u001b[1m\u001b[30m  .  \u001b[0m\n",
      "\u001b[46m\u001b[1m\u001b[30m  .  \u001b[0m\u001b[44m     \u001b[0m\u001b[46m\u001b[1m\u001b[30m  .  \u001b[0m\u001b[46m\u001b[1m\u001b[30m  █  \u001b[0m\u001b[46m\u001b[1m\u001b[37m  웃 \u001b[0m\u001b[46m\u001b[1m\u001b[30m  .  \u001b[0m\u001b[46m\u001b[1m\u001b[30m  .  \u001b[0m\u001b[46m\u001b[1m\u001b[30m  .  \u001b[0m\u001b[46m\u001b[1m\u001b[30m  .  \u001b[0m\u001b[46m\u001b[1m\u001b[30m  .  \u001b[0m\n",
      "\u001b[46m\u001b[1m\u001b[30m  .  \u001b[0m\u001b[46m\u001b[1m\u001b[30m  .  \u001b[0m\u001b[46m\u001b[1m\u001b[30m  .  \u001b[0m\u001b[46m\u001b[1m\u001b[30m  █  \u001b[0m\u001b[46m\u001b[1m\u001b[30m  .  \u001b[0m\u001b[46m\u001b[1m\u001b[30m  .  \u001b[0m\u001b[46m\u001b[1m\u001b[30m  .  \u001b[0m\u001b[46m\u001b[1m\u001b[30m  .  \u001b[0m\u001b[46m\u001b[1m\u001b[30m  .  \u001b[0m\u001b[46m\u001b[1m\u001b[30m  .  \u001b[0m\n",
      "\u001b[46m\u001b[1m\u001b[30m  .  \u001b[0m\u001b[46m\u001b[1m\u001b[30m  .  \u001b[0m\u001b[46m\u001b[1m\u001b[30m  .  \u001b[0m\u001b[46m\u001b[1m\u001b[30m  █  \u001b[0m\u001b[46m\u001b[1m\u001b[30m  █  \u001b[0m\u001b[46m\u001b[1m\u001b[30m  .  \u001b[0m\u001b[46m\u001b[1m\u001b[30m  .  \u001b[0m\u001b[46m\u001b[1m\u001b[30m  .  \u001b[0m\u001b[46m\u001b[1m\u001b[30m  .  \u001b[0m\u001b[46m\u001b[1m\u001b[30m  .  \u001b[0m\n",
      "\u001b[46m\u001b[1m\u001b[30m  .  \u001b[0m\u001b[46m\u001b[1m\u001b[30m  .  \u001b[0m\u001b[44m     \u001b[0m\u001b[46m\u001b[1m\u001b[30m  .  \u001b[0m\u001b[46m\u001b[1m\u001b[30m  .  \u001b[0m\u001b[46m\u001b[1m\u001b[30m  .  \u001b[0m\u001b[46m\u001b[1m\u001b[30m  .  \u001b[0m\u001b[46m\u001b[1m\u001b[30m  .  \u001b[0m\u001b[46m\u001b[1m\u001b[30m  .  \u001b[0m\u001b[46m\u001b[1m\u001b[30m  .  \u001b[0m\n",
      "\u001b[46m\u001b[1m\u001b[30m  .  \u001b[0m\u001b[46m\u001b[1m\u001b[30m  .  \u001b[0m\u001b[46m\u001b[1m\u001b[30m  .  \u001b[0m\u001b[46m\u001b[1m\u001b[30m  .  \u001b[0m\u001b[46m\u001b[1m\u001b[30m  .  \u001b[0m\u001b[46m\u001b[1m\u001b[30m  .  \u001b[0m\u001b[46m\u001b[1m\u001b[30m  .  \u001b[0m\u001b[46m\u001b[1m\u001b[30m  .  \u001b[0m\u001b[46m\u001b[1m\u001b[30m  .  \u001b[0m\u001b[46m\u001b[1m\u001b[30m  .  \u001b[0m\n",
      "\u001b[46m\u001b[1m\u001b[30m  .  \u001b[0m\u001b[46m\u001b[1m\u001b[30m  .  \u001b[0m\u001b[46m\u001b[1m\u001b[30m  .  \u001b[0m\u001b[46m\u001b[1m\u001b[30m  .  \u001b[0m\u001b[46m\u001b[1m\u001b[30m  .  \u001b[0m\u001b[46m\u001b[1m\u001b[30m  .  \u001b[0m\u001b[46m\u001b[1m\u001b[30m  .  \u001b[0m\u001b[46m\u001b[1m\u001b[30m  .  \u001b[0m\u001b[46m\u001b[1m\u001b[30m  .  \u001b[0m\u001b[46m\u001b[1m\u001b[30m  .  \u001b[0m\n"
     ]
    }
   ],
   "source": [
    "env =  GridworldEnv()\n",
    "env.reset()\n",
    "env._render()\n",
    "\n",
    "for _ in range(4):\n",
    "    action = env.action_space.sample()\n",
    "    state, reward, done, info = env.step(action) # Take a random action\n",
    "    print(info)\n",
    "    print('action:',action)\n",
    "    env._render()\n",
    "env.close()\n"
   ]
  },
  {
   "cell_type": "markdown",
   "metadata": {
    "id": "AYzoyW5Y6msU"
   },
   "source": [
    "#### In google colab you may need to install the below library."
   ]
  },
  {
   "cell_type": "code",
   "execution_count": 3,
   "metadata": {
    "colab": {
     "base_uri": "https://localhost:8080/"
    },
    "id": "mkpSY5lZlEYQ",
    "outputId": "88a445c5-4402-4d1e-b544-de496cbe291a"
   },
   "outputs": [
    {
     "name": "stdout",
     "output_type": "stream",
     "text": [
      "Requirement already satisfied: colorama in /Library/Frameworks/Python.framework/Versions/3.9/lib/python3.9/site-packages (0.4.4)\r\n"
     ]
    }
   ],
   "source": [
    "!pip install colorama"
   ]
  },
  {
   "cell_type": "markdown",
   "metadata": {},
   "source": [
    "In this project, we want to get more rewards in the game that define in the up code. For this purpose, we implement 6 algorithms.\n",
    "1. On-policy monte-carlo\n",
    "2. Off-policy monte-carlo\n",
    "3. Double Q-learning\n",
    "4. Tree Back-up(with n=1, 2, 3)\n",
    "5. SARSA\n",
    "6. Two-step Expected SARSA\n",
    "\n",
    "For each of this algorithms, we plot reward per episode and compare them with each other. And with this plots, we compare algorithms learning rates with each other.\n",
    "\n",
    "# Algorithms\n",
    "## On-policy Monte-carlo"
   ]
  },
  {
   "cell_type": "code",
   "execution_count": 216,
   "metadata": {
    "scrolled": true
   },
   "outputs": [
    {
     "name": "stdout",
     "output_type": "stream",
     "text": [
      "Run time: 18.34175205230713\n",
      "Average Reward: -11.975\n",
      "Test Average Reward: 3.0\n"
     ]
    },
    {
     "data": {
      "image/png": "[encoded data removed]",
      "text/plain": [
       "<Figure size 432x288 with 1 Axes>"
      ]
     },
     "metadata": {
      "needs_background": "light"
     },
     "output_type": "display_data"
    }
   ],
   "source": [
    "import numpy as np\n",
    "import time\n",
    "import math\n",
    "import matplotlib.pyplot as plt\n",
    "\n",
    "epsilon = 1\n",
    "env.reset()\n",
    "\n",
    "actions_count = env.nA\n",
    "states_count = env.nS\n",
    "policy = [[1/actions_count for _ in range(actions_count)] for _ in range(states_count)]\n",
    "q = [[0 for _ in range(actions_count)] for _ in range(states_count)]\n",
    "returns = [[list() for _ in range(actions_count)] for _ in range(states_count)]\n",
    "\n",
    "EPISODES_COUNT = 600\n",
    "FINAL_STATE_REWARD = 3\n",
    "\n",
    "def generate_episode(environment, policy, step_counts=math.inf):\n",
    "    environment.reset()\n",
    "    state = 44\n",
    "    states = []\n",
    "    actions = []\n",
    "    rewards = []\n",
    "    steps = 0\n",
    "    while steps < step_counts:\n",
    "        steps += 1\n",
    "        states.append(state)\n",
    "        action = np.random.choice(range(actions_count), p=policy[state])\n",
    "        state, reward, done, info = env.step(action)\n",
    "        actions.append(action)\n",
    "        rewards.append(reward)\n",
    "        if reward == FINAL_STATE_REWARD:\n",
    "            break\n",
    "    return states, actions, rewards\n",
    "\n",
    "def is_state_action_exists_in_sequence(t, states, actions):\n",
    "    state, action = states[t], actions[t]\n",
    "    for index in range(t-1, -1, -1):\n",
    "        if state == states[index] and action == actions[index]:\n",
    "            return True\n",
    "    return False\n",
    "    \n",
    "episode_rewards = []\n",
    "start_time = time.time()\n",
    "for _ in range(EPISODES_COUNT):\n",
    "    states, actions, rewards = generate_episode(env, policy)\n",
    "    episode_rewards.append(sum(rewards))\n",
    "    episode_length = len(states)\n",
    "    g = 0\n",
    "    for t in range(episode_length-1, -1, -1):\n",
    "        g += rewards[t]\n",
    "        state, action = states[t], actions[t]\n",
    "        if not is_state_action_exists_in_sequence(t, states, actions):\n",
    "            returns[state][action].append(g)\n",
    "            q[state][action] = np.mean(returns[state][action])\n",
    "            best_action = np.argmax(q[state])\n",
    "            state_policy = policy[state]\n",
    "            for action in range(actions_count):\n",
    "                if action == best_action:\n",
    "                    state_policy[action] = 1 - epsilon + (epsilon / actions_count)\n",
    "                else:\n",
    "                    state_policy[action] = epsilon / actions_count\n",
    "    epsilon *= 0.99\n",
    "TEST_EPISODES_COUNT = 20\n",
    "test_rewards = []\n",
    "for _ in range(TEST_EPISODES_COUNT):\n",
    "    states, actions, rewards = generate_episode(env, policy)\n",
    "    test_rewards.append(sum(rewards))\n",
    "    episode_length = len(states)\n",
    "    g = 0\n",
    "    for t in range(episode_length-1, -1, -1):\n",
    "        g += rewards[t]\n",
    "        state, action = states[t], actions[t]\n",
    "        if not is_state_action_exists_in_sequence(t, states, actions):\n",
    "            returns[state][action].append(g)\n",
    "            q[state][action] = np.mean(returns[state][action])\n",
    "            best_action = np.argmax(q[state])\n",
    "            state_policy = policy[state]\n",
    "            for action in range(actions_count):\n",
    "                if action == best_action:\n",
    "                    state_policy[action] = 1 - epsilon + (epsilon / actions_count)\n",
    "                else:\n",
    "                    state_policy[action] = epsilon / actions_count\n",
    "end_time = time.time()\n",
    "print(\"Run time: {}\".format(end_time - start_time))\n",
    "print(\"Average Reward: {}\".format(np.average(episode_rewards)))\n",
    "print(\"Test Average Reward: {}\".format(np.average(test_rewards)))\n",
    "episdoes_number = [i for i in range(EPISODES_COUNT)]\n",
    "plt.plot(episdoes_number, episode_rewards)\n",
    "plt.xlabel(\"Episode #\")\n",
    "plt.ylabel(\"Reward\")\n",
    "plt.show()"
   ]
  },
  {
   "cell_type": "markdown",
   "metadata": {},
   "source": [
    "As we see, It's learn properly because test average reward is 3 and it's very goof because our algorithm skip all obstacles and doesn't get any negative reward.\n",
    "\n",
    "As we see in plot, it converges after 100 episodes approximately.\n",
    "\n",
    "## Off-policy Monte-Carlo"
   ]
  },
  {
   "cell_type": "code",
   "execution_count": 217,
   "metadata": {},
   "outputs": [
    {
     "name": "stdout",
     "output_type": "stream",
     "text": [
      "Run time: 1.0602469444274902\n",
      "[-157.0, -592.0, -957.0, -52.0, -327.0, -247.0, -137.0, -92.0, -107.0, -147.0, -217.0, -32.0, -72.0, -12.0, -157.0, -77.0, -132.0, -47.0, -17.0, -82.0, -62.0, -2.0, -102.0, -57.0, -87.0, -12.0, -27.0, -32.0, -77.0, -37.0, -27.0, -22.0, -2.0, -87.0, -62.0, -32.0, -22.0, -2.0, -17.0, -52.0, -2.0, -47.0, -57.0, -2.0, -17.0, -7.0, -12.0, -42.0, -42.0, -62.0, -62.0, -107.0, -7.0, -2.0, 3.0, -87.0, -67.0, -107.0, -97.0, -32.0, -67.0, -137.0, -2.0, -92.0, -92.0, -7.0, -52.0, -7.0, -57.0, -17.0, -232.0, -37.0, -77.0, -12.0, -102.0, -47.0, -67.0, -7.0, -7.0, -2.0, -2.0, 3.0, -27.0, -12.0, -107.0, -107.0, -77.0, -12.0, -17.0, -12.0, -117.0, -17.0, -12.0, 3.0, -2.0, -12.0, -12.0, -92.0, -112.0, -157.0, -37.0, -162.0, 3.0, -132.0, -2.0, -17.0, -7.0, -77.0, 3.0, -7.0, 3.0, 3.0, 3.0, 3.0, 3.0, 3.0, 3.0, 3.0, 3.0, 3.0, 3.0, 3.0, 3.0, 3.0, 3.0, 3.0, 3.0, 3.0, -42.0, 3.0, 3.0, 3.0, 3.0, 3.0, 3.0, 3.0, 3.0, 3.0, 3.0, -2.0, 3.0, 3.0, 3.0, 3.0, 3.0, 3.0, 3.0, 3.0, 3.0, 3.0, 3.0, 3.0, 3.0, 3.0, 3.0, 3.0, 3.0, 3.0, 3.0, -2.0, 3.0, 3.0, 3.0, 3.0, 3.0, 3.0, 3.0, 3.0, 3.0, 3.0, -2.0, 3.0, 3.0, -12.0, 3.0, 3.0, 3.0, 3.0, 3.0, 3.0, 3.0, 3.0, 3.0, 3.0, 3.0, 3.0, 3.0, 3.0, 3.0, 3.0, 3.0, 3.0, 3.0, 3.0, 3.0, 3.0, 3.0, 3.0, -2.0, -7.0, 3.0, -17.0, 3.0, 3.0, -2.0, 3.0, 3.0, 3.0, 3.0, 3.0, 3.0, 3.0, 3.0, 3.0, 3.0, 3.0, 3.0, 3.0, 3.0, 3.0, 3.0, 3.0, 3.0, 3.0, 3.0, 3.0, 3.0, 3.0, -2.0, 3.0, 3.0, 3.0, 3.0, 3.0, 3.0, 3.0, 3.0, 3.0, -2.0, 3.0, 3.0, 3.0, 3.0, 3.0, 3.0, 3.0, 3.0, 3.0, 3.0, 3.0, -2.0, 3.0, 3.0, 3.0, 3.0, 3.0, 3.0, 3.0, 3.0, -2.0, 3.0, 3.0, 3.0, 3.0, 3.0, 3.0, 3.0, 3.0, 3.0, 3.0, 3.0, 3.0, 3.0, -2.0, 3.0, 3.0, 3.0, 3.0, 3.0, 3.0, 3.0, 3.0, 3.0, 3.0, -2.0, 3.0, -2.0, 3.0, 3.0, 3.0, 3.0, 3.0, -12.0, 3.0, 3.0, 3.0, 3.0, 3.0, 3.0, 3.0, 3.0, 3.0, 3.0, 3.0, 3.0, 3.0, 3.0, 3.0, 3.0, 3.0, 3.0, 3.0, 3.0, 3.0, 3.0, 3.0, 3.0, 3.0, 3.0, 3.0, 3.0, 3.0, 3.0, 3.0, 3.0, 3.0, 3.0, 3.0, 3.0, -17.0, 3.0, 3.0, 3.0, 3.0, 3.0, 3.0, 3.0, 3.0, 3.0, 3.0, 3.0, 3.0, 3.0, 3.0, 3.0, 3.0, 3.0, 3.0, 3.0, 3.0, 3.0, 3.0, -17.0, 3.0, 3.0, 3.0, 3.0, 3.0, 3.0, 3.0, 3.0, 3.0, 3.0, 3.0, 3.0, 3.0, 3.0, 3.0, 3.0, 3.0, 3.0, 3.0, 3.0, 3.0, 3.0, 3.0, 3.0, 3.0, 3.0, 3.0, 3.0, 3.0, 3.0, 3.0, 3.0, 3.0, 3.0, 3.0, 3.0, 3.0, 3.0, 3.0, 3.0, 3.0, 3.0, 3.0, 3.0, -2.0, 3.0, 3.0, 3.0, 3.0, 3.0, 3.0, 3.0, 3.0, 3.0, 3.0, 3.0, 3.0, 3.0, 3.0, 3.0, 3.0, 3.0, 3.0, 3.0, 3.0, 3.0, 3.0, 3.0, 3.0, 3.0, 3.0, 3.0, 3.0, 3.0, 3.0, 3.0, 3.0, 3.0, 3.0, 3.0, 3.0, 3.0, 3.0, 3.0, 3.0, 3.0, 3.0, 3.0, 3.0, 3.0, 3.0, 3.0, 3.0, 3.0, 3.0, 3.0, 3.0, 3.0, 3.0, 3.0, 3.0, 3.0, 3.0, 3.0, 3.0, 3.0, 3.0, 3.0, 3.0, 3.0, 3.0, 3.0, 3.0, 3.0, 3.0, 3.0, 3.0, 3.0, -2.0, 3.0, 3.0, 3.0, 3.0, 3.0, 3.0, 3.0, 3.0, 3.0, 3.0, 3.0, 3.0, 3.0, 3.0, 3.0, 3.0, 3.0, 3.0, 3.0, 3.0, 3.0, 3.0, 3.0, 3.0, 3.0, 3.0, 3.0, 3.0, 3.0, 3.0, 3.0, 3.0, 3.0, 3.0, 3.0, 3.0, 3.0, 3.0, 3.0, 3.0, 3.0, 3.0, 3.0, 3.0, 3.0, 3.0, 3.0, 3.0, 3.0, 3.0, 3.0, 3.0, 3.0, 3.0, 3.0, 3.0, 3.0, 3.0, 3.0, 3.0, 3.0, 3.0, 3.0, 3.0, 3.0, 3.0, 3.0, 3.0, 3.0, 3.0, 3.0, 3.0, 3.0, 3.0, 3.0, 3.0, 3.0, 3.0, 3.0, 3.0, 3.0, 3.0, 3.0, 3.0, 3.0, 3.0, 3.0, 3.0, 3.0, -2.0, 3.0, 3.0, 3.0, 3.0, 3.0, 3.0, 3.0, 3.0, 3.0, 3.0, 3.0, 3.0, 3.0, 3.0, 3.0, 3.0, 3.0, 3.0, 3.0, 3.0, 3.0, 3.0, 3.0, 3.0, 3.0, 3.0, 3.0, 3.0, 3.0, 3.0, 3.0, 3.0, 3.0, 3.0, 3.0, 3.0, 3.0, 3.0]\n",
      "Average Reward: -10.9\n",
      "Test average reward: 3.0\n"
     ]
    },
    {
     "data": {
      "image/png": "[encoded data removed]",
      "text/plain": [
       "<Figure size 432x288 with 1 Axes>"
      ]
     },
     "metadata": {
      "needs_background": "light"
     },
     "output_type": "display_data"
    }
   ],
   "source": [
    "q = [[0 for _ in range(actions_count)] for _ in range(states_count)]\n",
    "c = [[0 for _ in range(actions_count)] for _ in range(states_count)]\n",
    "policy = [0 for _ in range(states_count)]\n",
    "epsilon = 1\n",
    "initial_state = 44\n",
    "discount_factor = 0.9\n",
    "env.reset()\n",
    "episode_rewards = []\n",
    "start_time = time.time()\n",
    "for _ in range(EPISODES_COUNT):\n",
    "    behavior = [[epsilon / actions_count for _ in range(actions_count)] for _ in range(states_count)]\n",
    "    for state in range(states_count):\n",
    "        best_action = np.argmax(q[state])\n",
    "        behavior[state][best_action] += (1 - epsilon)\n",
    "    states, actions, rewards = generate_episode(env, behavior)\n",
    "    episode_rewards.append(sum(rewards))\n",
    "    g = 0.0\n",
    "    w = 1.0\n",
    "    episode_length = len(states)\n",
    "    for t in range(episode_length-1, -1, -1):\n",
    "        state, action = states[t], actions[t]\n",
    "        g = g * discount_factor + rewards[t]\n",
    "        c[state][action] += w\n",
    "        q[state][action] += ((w / c[state][action])*(g - q[state][action]))\n",
    "        policy[state] = np.argmax(q[state])\n",
    "        if policy[state] != action:\n",
    "            break\n",
    "        w *= (1 / behavior[state][action])\n",
    "    epsilon *= 0.99\n",
    "end_time = time.time()\n",
    "env.reset()\n",
    "state = 44\n",
    "states = []\n",
    "test_rewards = []\n",
    "while True:\n",
    "    states.append(state)\n",
    "    action = policy[state]\n",
    "    state, reward, done, info = env.step(action)\n",
    "    test_rewards.append(sum(rewards))\n",
    "    if reward == FINAL_STATE_REWARD:\n",
    "        break\n",
    "print(\"Run time: {}\".format(end_time - start_time))\n",
    "print(episode_rewards)\n",
    "print(\"Average Reward: {}\".format(np.average(episode_rewards)))\n",
    "print(\"Test average reward: {}\".format(np.average(test_rewards)))\n",
    "episdoes_number = [i for i in range(EPISODES_COUNT)]\n",
    "plt.plot(episdoes_number, episode_rewards)\n",
    "plt.xlabel(\"Episode #\")\n",
    "plt.ylabel(\"Reward\")\n",
    "plt.show()"
   ]
  },
  {
   "cell_type": "markdown",
   "metadata": {},
   "source": [
    "As we see, It's learn properly because test average reward is 3 and latest rewards are all 3. it's very good because our algorithm skip all obstacles and doesn't get any negative reward at the end (after learning). This algorithm learns greedy policy. because of that, just one test is enough because output always is constant.\n",
    "\n",
    "As we see in plot, it converges after 100 episodes approximately but it has more up and downs than on policy. It's run time is less than on policy.\n",
    "\n",
    "## Double Q-learning"
   ]
  },
  {
   "cell_type": "code",
   "execution_count": 219,
   "metadata": {},
   "outputs": [
    {
     "name": "stdout",
     "output_type": "stream",
     "text": [
      "Run time: 1.0547149181365967\n",
      "Average Reward: -7.066666666666666\n",
      "[-517.0, -12.0, -1057.0, -112.0, -457.0, -77.0, -532.0, -27.0, -172.0, -187.0, -22.0, -52.0, -192.0, -212.0, -102.0, -32.0, -27.0, -112.0, -52.0, -7.0, -62.0, -37.0, -67.0, -42.0, -2.0, -17.0, -62.0, -107.0, -112.0, -72.0, -7.0, -12.0, -27.0, -12.0, -27.0, 3.0, -27.0, -22.0, 3.0, -12.0, -12.0, -12.0, -67.0, -77.0, -2.0, -32.0, -7.0, 3.0, -57.0, -47.0, -22.0, -22.0, 3.0, 3.0, -7.0, -12.0, -42.0, -92.0, -27.0, -2.0, -12.0, -32.0, -7.0, -17.0, 3.0, -2.0, -12.0, -32.0, -2.0, 3.0, -12.0, -2.0, -12.0, 3.0, -12.0, 3.0, 3.0, -17.0, 3.0, 3.0, 3.0, 3.0, 3.0, -2.0, -2.0, 3.0, -2.0, 3.0, 3.0, -2.0, -12.0, 3.0, -17.0, 3.0, -12.0, 3.0, -2.0, 3.0, -7.0, -2.0, -12.0, 3.0, 3.0, -2.0, -27.0, 3.0, 3.0, 3.0, -27.0, 3.0, -7.0, 3.0, 3.0, 3.0, 3.0, -2.0, 3.0, -2.0, 3.0, 3.0, -2.0, -17.0, -2.0, 3.0, -2.0, -2.0, 3.0, -12.0, 3.0, 3.0, 3.0, -22.0, 3.0, 3.0, 3.0, -2.0, 3.0, 3.0, 3.0, 3.0, 3.0, 3.0, 3.0, 3.0, 3.0, -2.0, 3.0, 3.0, 3.0, 3.0, 3.0, 3.0, 3.0, 3.0, 3.0, 3.0, 3.0, 3.0, 3.0, -12.0, 3.0, 3.0, 3.0, 3.0, 3.0, 3.0, 3.0, -12.0, 3.0, 3.0, 3.0, 3.0, 3.0, 3.0, 3.0, 3.0, 3.0, 3.0, 3.0, 3.0, 3.0, 3.0, 3.0, 3.0, 3.0, -2.0, 3.0, 3.0, 3.0, 3.0, 3.0, 3.0, 3.0, 3.0, -7.0, -2.0, -12.0, 3.0, 3.0, 3.0, 3.0, 3.0, 3.0, -2.0, 3.0, 3.0, -2.0, 3.0, 3.0, 3.0, 3.0, 3.0, 3.0, 3.0, 3.0, 3.0, 3.0, 3.0, 3.0, 3.0, 3.0, 3.0, 3.0, 3.0, 3.0, 3.0, 3.0, 3.0, 3.0, 3.0, -2.0, 3.0, 3.0, 3.0, 3.0, 3.0, 3.0, 3.0, 3.0, 3.0, 3.0, 3.0, 3.0, 3.0, 3.0, 3.0, -12.0, 3.0, 3.0, 3.0, 3.0, 3.0, 3.0, -2.0, 3.0, 3.0, 3.0, 3.0, 3.0, 3.0, 3.0, 3.0, 3.0, 3.0, 3.0, 3.0, -12.0, -2.0, 3.0, -2.0, 3.0, 3.0, 3.0, 3.0, 3.0, 3.0, 3.0, 3.0, 3.0, 3.0, 3.0, 3.0, 3.0, 3.0, 3.0, 3.0, 3.0, 3.0, 3.0, 3.0, 3.0, -2.0, 3.0, 3.0, 3.0, 3.0, 3.0, 3.0, 3.0, 3.0, 3.0, 3.0, 3.0, 3.0, 3.0, 3.0, 3.0, 3.0, 3.0, 3.0, 3.0, 3.0, 3.0, 3.0, 3.0, 3.0, 3.0, 3.0, 3.0, 3.0, 3.0, -2.0, 3.0, 3.0, 3.0, 3.0, 3.0, 3.0, 3.0, 3.0, 3.0, 3.0, 3.0, -2.0, 3.0, -2.0, 3.0, 3.0, 3.0, 3.0, 3.0, 3.0, -2.0, 3.0, 3.0, 3.0, 3.0, 3.0, 3.0, 3.0, 3.0, 3.0, 3.0, 3.0, 3.0, 3.0, 3.0, 3.0, 3.0, 3.0, 3.0, 3.0, 3.0, 3.0, 3.0, 3.0, 3.0, 3.0, 3.0, 3.0, 3.0, 3.0, 3.0, 3.0, 3.0, 3.0, 3.0, 3.0, 3.0, 3.0, 3.0, 3.0, 3.0, 3.0, 3.0, 3.0, 3.0, 3.0, 3.0, 3.0, 3.0, 3.0, 3.0, 3.0, 3.0, 3.0, 3.0, 3.0, 3.0, 3.0, 3.0, 3.0, 3.0, 3.0, 3.0, 3.0, 3.0, 3.0, 3.0, 3.0, 3.0, 3.0, 3.0, 3.0, 3.0, 3.0, 3.0, 3.0, 3.0, 3.0, 3.0, 3.0, 3.0, -2.0, 3.0, 3.0, 3.0, 3.0, 3.0, 3.0, 3.0, 3.0, 3.0, 3.0, 3.0, 3.0, 3.0, 3.0, 3.0, 3.0, 3.0, 3.0, 3.0, 3.0, 3.0, 3.0, 3.0, 3.0, 3.0, 3.0, 3.0, -2.0, 3.0, 3.0, 3.0, 3.0, 3.0, 3.0, 3.0, 3.0, 3.0, 3.0, 3.0, 3.0, 3.0, 3.0, 3.0, 3.0, 3.0, 3.0, 3.0, 3.0, 3.0, 3.0, 3.0, 3.0, 3.0, 3.0, 3.0, 3.0, 3.0, 3.0, 3.0, 3.0, 3.0, 3.0, 3.0, 3.0, 3.0, 3.0, 3.0, 3.0, 3.0, 3.0, 3.0, 3.0, 3.0, 3.0, 3.0, 3.0, 3.0, 3.0, 3.0, 3.0, 3.0, 3.0, 3.0, 3.0, 3.0, 3.0, 3.0, 3.0, 3.0, 3.0, 3.0, 3.0, 3.0, 3.0, 3.0, 3.0, 3.0, 3.0, 3.0, 3.0, 3.0, 3.0, 3.0, 3.0, 3.0, 3.0, 3.0, 3.0, 3.0, 3.0, 3.0, 3.0, 3.0, 3.0, 3.0, 3.0, 3.0, 3.0, 3.0, 3.0, 3.0, 3.0, 3.0, 3.0, 3.0, 3.0, 3.0, 3.0, 3.0, 3.0, 3.0, 3.0, 3.0, 3.0, 3.0, 3.0, 3.0, 3.0, 3.0, 3.0, 3.0, 3.0, 3.0, 3.0, 3.0, 3.0, 3.0, 3.0, 3.0, 3.0, 3.0, 3.0, 3.0, 3.0, 3.0, 3.0, 3.0, 3.0, 3.0, 3.0, 3.0, 3.0, 3.0, 3.0, 3.0, 3.0, 3.0, 3.0, 3.0, 3.0, 3.0, 3.0, 3.0, 3.0, 3.0, 3.0]\n"
     ]
    },
    {
     "data": {
      "image/png": "[encoded data removed]",
      "text/plain": [
       "<Figure size 432x288 with 1 Axes>"
      ]
     },
     "metadata": {
      "needs_background": "light"
     },
     "output_type": "display_data"
    }
   ],
   "source": [
    "import random\n",
    "\n",
    "env.reset()\n",
    "epsilon = 1\n",
    "alpha = 1\n",
    "q1 = np.array([[0 for _ in range(actions_count)] for _ in range(states_count)])\n",
    "q2 = np.array([[0 for _ in range(actions_count)] for _ in range(states_count)])\n",
    "episodes_rewards = []\n",
    "start_time = time.time()\n",
    "for _ in range(EPISODES_COUNT):\n",
    "    episode_reward = 0\n",
    "    state = 44\n",
    "    env.reset()\n",
    "    while True:\n",
    "        total_q = q1 + q2\n",
    "        best_action = np.argmax(total_q[state])\n",
    "        probs = [epsilon / actions_count for _ in range(actions_count)]\n",
    "        probs[best_action] += (1-epsilon)\n",
    "        action = np.random.choice(range(actions_count), p=probs)\n",
    "        next_state, reward, _, _ = env.step(action)\n",
    "        episode_reward += reward\n",
    "        if random.random() < 0.5:\n",
    "            q1[state][action] += (alpha * (reward + discount_factor * q2[next_state][np.argmax(q1[next_state])] - q1[state][action]))\n",
    "        else:\n",
    "            q2[state][action] += (alpha * (reward + discount_factor * q1[next_state][np.argmax(q2[next_state])] - q2[state][action]))\n",
    "        state = next_state\n",
    "        if reward == FINAL_STATE_REWARD:\n",
    "            break\n",
    "    episodes_rewards.append(episode_reward)\n",
    "    epsilon *= 0.99\n",
    "    alpha *= 0.99\n",
    "end_time = time.time()\n",
    "print(\"Run time: {}\".format(end_time - start_time))\n",
    "print(\"Average Reward: {}\".format(np.average(episodes_rewards)))\n",
    "print(episodes_rewards)\n",
    "episdoes_number = [i for i in range(EPISODES_COUNT)]\n",
    "plt.plot(episdoes_number, episodes_rewards)\n",
    "plt.xlabel(\"Episode #\")\n",
    "plt.ylabel(\"Reward\")\n",
    "plt.show()"
   ]
  },
  {
   "cell_type": "markdown",
   "metadata": {},
   "source": [
    "This algorithm rewards converges to 3 at the end after learning phase. It has better average reward because this algorithm converges faster and get less bad rewards. At the end, our agent doesn't get stuck in any obstacle.\n",
    "\n",
    "As you see in plot, it converges very faster in less than 100 episodes. It runs faster than two previous algorithms.\n",
    "\n",
    "## Tree Back-up"
   ]
  },
  {
   "cell_type": "code",
   "execution_count": 220,
   "metadata": {
    "scrolled": true
   },
   "outputs": [
    {
     "name": "stdout",
     "output_type": "stream",
     "text": [
      "One step time: 103.25141501426697\n",
      "One step rewards:\n",
      "[-462.0, -332.0, -462.0, -32.0, -57.0, -72.0, -82.0, -72.0, -57.0, -182.0, -7.0, -57.0, -62.0, -7.0, -102.0, -32.0, -57.0, -7.0, -2.0, -137.0, -67.0, -222.0, -267.0, -17.0, -67.0, -67.0, -22.0, -52.0, -47.0, -77.0, -2.0, -27.0, -82.0, -42.0, -27.0, -62.0, -12.0, -47.0, -27.0, -32.0, -17.0, -62.0, -17.0, -112.0, -12.0, -67.0, -152.0, -67.0, -32.0, -57.0, -87.0, -22.0, -92.0, 3.0, -12.0, 3.0, -12.0, -22.0, 3.0, -32.0, -32.0, -12.0, -12.0, -87.0, -107.0, -52.0, -2.0, -2.0, -77.0, 3.0, 3.0, -17.0, -17.0, -32.0, -62.0, -42.0, -7.0, -42.0, -137.0, -42.0, 3.0, -72.0, 3.0, -2.0, -12.0, -12.0, -42.0, 3.0, -57.0, -12.0, -12.0, 3.0, 3.0, 3.0, 3.0, 3.0, 3.0, -77.0, -2.0, -27.0, -2.0, -42.0, -22.0, -17.0, -87.0, -27.0, -17.0, -17.0, -52.0, 3.0, -42.0, -122.0, -67.0, -32.0, -97.0, -77.0, -2.0, -32.0, 3.0, -12.0, -17.0, -57.0, -12.0, -42.0, -2.0, -47.0, 3.0, 3.0, -12.0, -12.0, 3.0, -47.0, -12.0, -42.0, -12.0, 3.0, -12.0, -12.0, -17.0, 3.0, 3.0, -12.0, -12.0, -12.0, 3.0, -2.0, -2.0, -12.0, 3.0, -12.0, 3.0, -2.0, -2.0, -12.0, 3.0, 3.0, 3.0, -12.0, 3.0, -52.0, -27.0, 3.0, -42.0, -47.0, 3.0, -62.0, 3.0, 3.0, 3.0, -12.0, 3.0, -27.0, -12.0, 3.0, -12.0, -32.0, -17.0, 3.0, -12.0, 3.0, -32.0, 3.0, -27.0, 3.0, 3.0, -32.0, 3.0, -27.0, -27.0, -27.0, 3.0, -27.0, 3.0, -12.0, 3.0, -17.0, -72.0, 3.0, 3.0, 3.0, -42.0, -12.0, -12.0, 3.0, 3.0, 3.0, 3.0, 3.0, -17.0, 3.0, -27.0, 3.0, 3.0, 3.0, -12.0, -12.0, 3.0, -42.0, 3.0, -2.0, -12.0, 3.0, -27.0, 3.0, -12.0, 3.0, -27.0, -12.0, -12.0, -32.0, -12.0, 3.0, 3.0, 3.0, 3.0, 3.0, 3.0, -12.0, 3.0, -27.0, 3.0, 3.0, 3.0, -12.0, -2.0, 3.0, -27.0, 3.0, 3.0, -12.0, -27.0, -27.0, -12.0, -32.0, -27.0, 3.0, -2.0, -27.0, -2.0, -12.0, 3.0, 3.0, 3.0, 3.0, 3.0, 3.0, -27.0, -12.0, 3.0, 3.0, 3.0, -27.0, 3.0, -27.0, -42.0, 3.0, -102.0, 3.0, 3.0, -12.0, 3.0, -27.0, 3.0, -102.0, 3.0, 3.0, 3.0, -42.0, -27.0, 3.0, -87.0, 3.0, -2.0, -72.0, 3.0, 3.0, -42.0, 3.0, 3.0, -27.0, -42.0, -27.0, 3.0, 3.0, 3.0, -27.0, -12.0, 3.0, 3.0, -27.0, 3.0, -12.0, 3.0, 3.0, -12.0, 3.0, 3.0, -12.0, 3.0, -27.0, -27.0, 3.0, -12.0, -12.0, 3.0, -27.0, -32.0, -12.0, 3.0, -12.0, -12.0, -12.0, 3.0, 3.0, 3.0, -12.0, -42.0, -2.0, -27.0, -12.0, 0.0, -87.0, 3.0, -12.0, 3.0, 3.0, 3.0, -12.0, -12.0, -42.0, -27.0, 3.0, -12.0, -27.0, 3.0, 0.0, 3.0, 3.0, -27.0, 3.0, -27.0, -12.0, 3.0, 3.0, -15.0, -12.0, 3.0, -12.0, 3.0, -42.0, 0.0, 3.0, -27.0, 3.0, 3.0, 0.0, -27.0, -12.0, 3.0, -42.0, -12.0, -12.0, 3.0, 3.0, 3.0, 3.0, 3.0, -12.0, 3.0, 3.0, -12.0, -57.0, 3.0, -27.0, -42.0, 3.0, 3.0, 3.0, 3.0, -30.0, -27.0, 3.0, -42.0, 3.0, -42.0, 3.0, 3.0, -15.0, -27.0, -42.0, 3.0, 0.0, -12.0, -27.0, 3.0, 3.0, -12.0, -27.0, 3.0, 3.0, 3.0, 3.0, -12.0, 0.0, -72.0, -42.0, 3.0, 3.0, 3.0, 3.0, -57.0, -72.0, -27.0, 3.0, -27.0, 3.0, -42.0, -12.0, 3.0, 3.0, 3.0, 0.0, 3.0, 0.0, -60.0, 3.0, 3.0, 3.0, 0.0, -27.0, 3.0, -42.0, 0.0, 3.0, 0.0, 0.0, 0.0, 0.0, 3.0, 0.0, -60.0, 3.0, 3.0, -27.0, 3.0, 3.0, 3.0, -30.0, 0.0, -12.0, 3.0, 3.0, -27.0, -12.0, -12.0, -12.0, 3.0, -27.0, 0.0, 0.0, -12.0, -27.0, 3.0, 3.0, -15.0, -12.0, 3.0, -12.0, -15.0, 0.0, 3.0, 3.0, -12.0, 0.0, 3.0, 3.0, -30.0, 0.0, 3.0, 3.0, -12.0, -12.0, 0.0, -42.0, 3.0, 0.0, 0.0, 0.0, -27.0, 3.0, 3.0, 3.0, -12.0, 0.0, -57.0, 0.0, 3.0, 3.0, 0.0, 0.0, 0.0, -12.0, 3.0, -30.0, 0.0, 0.0, -45.0, 3.0, 0.0, 0.0, -42.0, 0.0, -57.0, 3.0, 0.0, 3.0, 0.0, 0.0, 0.0, -12.0, 3.0, -27.0, 3.0, 0.0, 0.0, -12.0, -12.0, 3.0, 0.0, 3.0, -12.0, 3.0, 3.0, -12.0, -12.0, -42.0, 3.0, 0.0, 0.0, 3.0, 3.0, 0.0, 0.0, 0.0, 0.0, 0.0, -27.0, 0.0, -30.0, -75.0, 0.0, 0.0, 3.0, 0.0, 0.0, 3.0, -12.0, 0.0, 0.0, 0.0, 3.0, 3.0, 0.0, 0.0, -12.0, -12.0, 0.0, -27.0, -12.0, 0.0, 0.0, -15.0, 0.0, 0.0, 0.0, 0.0, 3.0, 0.0, 3.0, -120.0]\n"
     ]
    },
    {
     "data": {
      "image/png": "[encoded data removed]",
      "text/plain": [
       "<Figure size 432x288 with 1 Axes>"
      ]
     },
     "metadata": {
      "needs_background": "light"
     },
     "output_type": "display_data"
    },
    {
     "name": "stdout",
     "output_type": "stream",
     "text": [
      "Two step time: 59.27485179901123\n",
      "Two step rewards:\n",
      "[-447.0, -262.0, -57.0, -47.0, -52.0, -67.0, -67.0, -52.0, -32.0, -222.0, -17.0, -157.0, -37.0, -27.0, -352.0, -77.0, -12.0, -27.0, -62.0, -192.0, -102.0, -42.0, -17.0, -72.0, -102.0, -27.0, -82.0, -32.0, -2.0, -22.0, -62.0, -42.0, -27.0, -172.0, -12.0, -67.0, 3.0, -62.0, -87.0, -67.0, -127.0, -87.0, -2.0, -17.0, -12.0, -12.0, -7.0, -17.0, -67.0, -37.0, -17.0, -27.0, -12.0, -7.0, -167.0, -12.0, -2.0, -132.0, -27.0, -12.0, -12.0, -2.0, -82.0, -27.0, -57.0, -127.0, -2.0, -17.0, -32.0, -12.0, -87.0, -12.0, -12.0, -37.0, -57.0, -52.0, -2.0, 3.0, -112.0, 3.0, -17.0, -42.0, -167.0, -12.0, -27.0, 3.0, -27.0, -12.0, 3.0, -77.0, -32.0, -17.0, -27.0, 3.0, -42.0, -57.0, -57.0, -12.0, 3.0, -17.0, -27.0, -12.0, -87.0, -47.0, -17.0, -12.0, -27.0, 3.0, -32.0, -82.0, -57.0, -27.0, -32.0, -12.0, -12.0, -12.0, 3.0, 3.0, -27.0, -27.0, 3.0, -12.0, -57.0, -87.0, -12.0, 3.0, -27.0, -12.0, -42.0, -12.0, -12.0, -72.0, -2.0, -2.0, 3.0, 3.0, -7.0, 3.0, 3.0, 3.0, 3.0, 3.0, -22.0, 3.0, 3.0, 3.0, 3.0, -2.0, 3.0, 3.0, 3.0, -12.0, 3.0, 3.0, 3.0, -2.0, 3.0, 3.0, 3.0, 3.0, 3.0, -27.0, 3.0, 3.0, 3.0, 3.0, 3.0, 3.0, 3.0, 3.0, 3.0, 3.0, 3.0, 3.0, 3.0, 3.0, -12.0, -2.0, -12.0, 3.0, -2.0, 3.0, 3.0, 3.0, 3.0, 3.0, 3.0, 3.0, 3.0, 3.0, 3.0, 3.0, 3.0, 3.0, 3.0, -2.0, 3.0, -12.0, 3.0, 3.0, -12.0, -2.0, 3.0, -2.0, 3.0, 3.0, 3.0, 3.0, 3.0, -57.0, 3.0, 3.0, -2.0, 3.0, 3.0, 3.0, 3.0, 3.0, 3.0, 3.0, 3.0, -2.0, 3.0, 3.0, -2.0, 3.0, 3.0, 3.0, 3.0, 3.0, 3.0, 3.0, -102.0, 3.0, -2.0, 3.0, 3.0, -12.0, 3.0, 3.0, 3.0, 3.0, 3.0, 3.0, 3.0, -2.0, 3.0, 3.0, 3.0, 3.0, 3.0, 3.0, 3.0, -2.0, 3.0, 3.0, 3.0, 3.0, 3.0, 3.0, 3.0, 3.0, 3.0, 3.0, 3.0, 3.0, 3.0, 3.0, -2.0, 3.0, -12.0, 3.0, -2.0, 3.0, 3.0, 3.0, 3.0, 3.0, 3.0, 3.0, 3.0, -2.0, 3.0, -2.0, 3.0, -12.0, 3.0, 3.0, -87.0, -2.0, 3.0, -42.0, 3.0, 3.0, 3.0, 3.0, 3.0, 3.0, 3.0, 3.0, 3.0, 3.0, 3.0, 3.0, 3.0, 3.0, 3.0, 3.0, 3.0, 3.0, 3.0, 3.0, 3.0, 3.0, 3.0, 3.0, 3.0, 3.0, 3.0, 3.0, 3.0, 3.0, 3.0, 3.0, 3.0, 3.0, 3.0, 3.0, 3.0, 3.0, 3.0, -2.0, 3.0, 3.0, 3.0, 3.0, 3.0, 3.0, 3.0, 3.0, 3.0, 3.0, 3.0, 3.0, 3.0, 3.0, 3.0, 3.0, 3.0, 3.0, 3.0, 3.0, 3.0, 3.0, 3.0, 3.0, 3.0, 3.0, 3.0, 3.0, 3.0, 3.0, 3.0, 3.0, 3.0, 3.0, 3.0, 3.0, 3.0, 3.0, 3.0, 3.0, 3.0, 3.0, 3.0, 3.0, 3.0, 3.0, 3.0, 3.0, 3.0, 3.0, 3.0, 3.0, 3.0, 3.0, 0.0, 3.0, 3.0, 3.0, 3.0, 3.0, 3.0, 3.0, 3.0, 3.0, 3.0, 3.0, 3.0, 3.0, 3.0, 3.0, 3.0, 3.0, 3.0, -12.0, 3.0, -12.0, 3.0, -12.0, 3.0, 3.0, 3.0, -27.0, -12.0, -12.0, -12.0, -12.0, 3.0, 3.0, 3.0, -12.0, -12.0, -12.0, 3.0, 0.0, -12.0, 3.0, 3.0, 3.0, 3.0, -12.0, 3.0, -12.0, 3.0, 3.0, -12.0, 3.0, -12.0, -12.0, 3.0, 3.0, 3.0, 0.0, 0.0, 3.0, 3.0, 3.0, 3.0, 3.0, 3.0, 3.0, 3.0, 3.0, 3.0, 3.0, 3.0, 3.0, 3.0, 3.0, 3.0, 3.0, 3.0, 3.0, 3.0, 3.0, 3.0, 3.0, 3.0, 3.0, 3.0, 3.0, 3.0, 3.0, 3.0, 3.0, 3.0, 3.0, 0.0, 3.0, 3.0, 3.0, 3.0, 3.0, 3.0, 3.0, 3.0, 3.0, 3.0, 3.0, 3.0, 3.0, 0.0, 3.0, -2.0, 3.0, 3.0, 0.0, 3.0, 3.0, 3.0, 3.0, 3.0, 3.0, 3.0, 3.0, 3.0, 3.0, 3.0, 3.0, 3.0, 3.0, 0.0, 3.0, 3.0, 3.0, 3.0, 3.0, 0.0, 3.0, 3.0, 3.0, 3.0, 3.0, 0.0, 3.0, 3.0, 3.0, 3.0, 3.0, 3.0, 3.0, 3.0, 3.0, 0.0, 3.0, 3.0, 0.0, 0.0, 0.0, 3.0, 3.0, 3.0, 0.0, 3.0, 3.0, 3.0, 0.0, 3.0, 3.0, 3.0, 3.0, 3.0, 3.0, 0.0, 3.0, 0.0, 3.0, 3.0, 3.0, 0.0, 3.0, 3.0, 3.0, 0.0, 3.0, 3.0, 0.0, 3.0, 3.0, 3.0, 3.0, 0.0, 3.0, 0.0, 3.0, 0.0, 3.0, 3.0, 3.0, 3.0, 3.0, 3.0, 3.0, 3.0, 3.0, 0.0, 3.0, 3.0, 3.0, 3.0, 3.0, 3.0, 3.0, 3.0, 3.0, 3.0, 3.0, 3.0, 3.0]\n"
     ]
    },
    {
     "data": {
      "image/png": "[encoded data removed]",
      "text/plain": [
       "<Figure size 432x288 with 1 Axes>"
      ]
     },
     "metadata": {
      "needs_background": "light"
     },
     "output_type": "display_data"
    },
    {
     "name": "stdout",
     "output_type": "stream",
     "text": [
      "Three step time: 403.41983008384705\n",
      "Three step rewards:\n",
      "[-1422.0, -167.0, -27.0, -1007.0, -72.0, -547.0, -117.0, -57.0, -12.0, -12.0, -27.0, -52.0, -122.0, -17.0, -87.0, -92.0, -197.0, -157.0, -207.0, -27.0, -77.0, -117.0, -52.0, -62.0, -27.0, -32.0, -2.0, -72.0, -77.0, 3.0, -42.0, -47.0, -12.0, -82.0, -157.0, -7.0, 3.0, -32.0, -122.0, -7.0, -32.0, -42.0, -12.0, -17.0, -42.0, -2.0, -12.0, -167.0, -17.0, -12.0, -17.0, -17.0, -37.0, -32.0, -52.0, -2.0, -12.0, -47.0, -32.0, -12.0, -17.0, -7.0, -17.0, 3.0, 3.0, -12.0, -27.0, -27.0, -62.0, -2.0, -2.0, -42.0, -12.0, 3.0, -57.0, -17.0, -42.0, -17.0, 3.0, -12.0, -62.0, -7.0, -2.0, -12.0, -77.0, 3.0, -22.0, 3.0, -2.0, -12.0, -12.0, -12.0, -12.0, -12.0, -27.0, 3.0, 3.0, -12.0, -2.0, -12.0, -2.0, 3.0, -12.0, -12.0, -15.0, 0.0, -10.0, 3.0, 3.0, -20.0, -15.0, -32.0, 3.0, 0.0, -2.0, -12.0, 3.0, -2.0, 3.0, -37.0, 3.0, 3.0, 3.0, 3.0, 3.0, -2.0, -2.0, -2.0, 3.0, -17.0, 0.0, 0.0, -12.0, -5.0, 3.0, 3.0, -2.0, -12.0, -17.0, -2.0, 3.0, -52.0, 3.0, -2.0, 3.0, 3.0, 3.0, 3.0, -27.0, -12.0, 3.0, 3.0, 3.0, 3.0, 3.0, -12.0, -12.0, 3.0, -15.0, -5.0, 0.0, 0.0, 0.0, 0.0, 0.0, 0.0, 0.0, 0.0, -5.0, 0.0, 0.0, 0.0, -5.0, 0.0, 0.0, 0.0, 0.0, 0.0, 0.0, 0.0, -5.0, 0.0, -5.0, 0.0, 0.0, 0.0, 0.0, 3.0, 0.0, -5.0, 0.0, 0.0, 0.0, 0.0, 0.0, 0.0, -35.0, 0.0, 0.0, 0.0, 0.0, 0.0, 0.0, 0.0, 0.0, 0.0, -5.0, 0.0, 0.0, 0.0, -5.0, 0.0, 0.0, 0.0, 0.0, 0.0, 0.0, 0.0, 0.0, 0.0, 0.0, 0.0, 0.0, 0.0, 0.0, 0.0, 0.0, 0.0, 0.0, 0.0, 0.0, 0.0, 0.0, -10.0, 0.0, 0.0, 0.0, 0.0, 0.0, 0.0, 0.0, 0.0, 0.0, 0.0, -5.0, 0.0, -5.0, 0.0, 0.0, 0.0, 0.0, 0.0, 0.0, -5.0, 0.0, 0.0, 0.0, 0.0, 0.0, 0.0, -5.0, 0.0, 0.0, 0.0, 0.0, 0.0, 0.0, 0.0, 0.0, 0.0, 0.0, -5.0, 0.0, 0.0, 0.0, 0.0, 0.0, 0.0, 0.0, 0.0, 0.0, 0.0, 0.0, 0.0, 0.0, 0.0, 0.0, 0.0, 0.0, 0.0, 0.0, 0.0, 0.0, 0.0, 0.0, 0.0, 0.0, 0.0, 0.0, 0.0, 0.0, 0.0, 0.0, 0.0, 0.0, 0.0, 0.0, -5.0, 0.0, 0.0, 0.0, 0.0, 0.0, 0.0, 0.0, 0.0, 0.0, 0.0, 0.0, 0.0, 0.0, 0.0, 0.0, 0.0, 0.0, 0.0, 0.0, 0.0, 0.0, 0.0, 0.0, 0.0, 0.0, 0.0, 0.0, 0.0, 0.0, 0.0, 0.0, 0.0, 0.0, 0.0, 0.0, 0.0, 0.0, 0.0, 0.0, 0.0, 0.0, 0.0, 0.0, 0.0, 0.0, 0.0, 0.0, 0.0, 0.0, 0.0, 0.0, 0.0, 0.0, 0.0, 0.0, 0.0, 0.0, 0.0, 0.0, 0.0, 0.0, 0.0, 0.0, 0.0, 0.0, 0.0, 0.0, 0.0, 0.0, 0.0, 0.0, 0.0, 0.0, 0.0, 0.0, 0.0, 0.0, 0.0, 0.0, 0.0, 0.0, 0.0, -5.0, 0.0, 0.0, 0.0, 0.0, 0.0, 0.0, 0.0, 0.0, 0.0, 0.0, 0.0, 0.0, 0.0, 0.0, 0.0, 0.0, 0.0, 0.0, 0.0, 0.0, 0.0, 0.0, 0.0, 0.0, 0.0, 0.0, 0.0, 0.0, 0.0, 0.0, 0.0, 0.0, 0.0, 0.0, 0.0, 0.0, 0.0, 0.0, 0.0, 0.0, 0.0, 0.0, 0.0, 0.0, 0.0, 0.0, 0.0, 0.0, 0.0, 0.0, 0.0, 0.0, 0.0, 0.0, 0.0, 0.0, 0.0, 0.0, 0.0, 0.0, 0.0, 0.0, 0.0, 0.0, 0.0, 0.0, 0.0, 0.0, 0.0, 0.0, 0.0, 0.0, 0.0, 0.0, 0.0, 0.0, 0.0, 0.0, 0.0, 0.0, 0.0, 0.0, 0.0, 0.0, -5.0, 0.0, 0.0, 0.0, 0.0, 0.0, 0.0, 0.0, 0.0, 0.0, 0.0, 0.0, 0.0, 0.0, 0.0, 0.0, 0.0, 0.0, 0.0, 0.0, 0.0, 0.0, 0.0, 0.0, 0.0, 0.0, 0.0, 0.0, 0.0, 0.0, 0.0, 0.0, 0.0, 0.0, 0.0, 0.0, 0.0, 0.0, 0.0, 0.0, 0.0, 0.0, 0.0, 0.0, 0.0, 0.0, 0.0, 0.0, 0.0, 0.0, 0.0, 0.0, 0.0, 0.0, 0.0, 0.0, 0.0, 0.0, 0.0, 0.0, 0.0, 0.0, 0.0, 0.0, 0.0, 0.0, 0.0, 0.0, 0.0, 0.0, 0.0, 0.0, 0.0, 0.0, 0.0, 0.0, 0.0, 0.0, 0.0, 0.0, 0.0, 0.0, 0.0, 0.0, 0.0, 0.0, 0.0, 0.0, 0.0, 0.0, 0.0, 0.0, 0.0, 0.0, 0.0, 0.0, 0.0, 0.0, 0.0, 0.0, 0.0, 0.0, 0.0, 0.0, 0.0, 0.0, 0.0, 0.0, 0.0, 0.0, 0.0, 0.0, 0.0, 0.0, 0.0, 0.0, 0.0, 0.0, 0.0, 0.0, 0.0, 0.0, 0.0, 0.0, 0.0]\n"
     ]
    },
    {
     "data": {
      "image/png": "[encoded data removed]",
      "text/plain": [
       "<Figure size 432x288 with 1 Axes>"
      ]
     },
     "metadata": {
      "needs_background": "light"
     },
     "output_type": "display_data"
    }
   ],
   "source": [
    "import math\n",
    "\n",
    "def n_step_tree_backup(n):\n",
    "    q = np.array([[0 for _ in range(actions_count)] for _ in range(states_count)])\n",
    "    epsilon = 1\n",
    "    policy = [[epsilon/actions_count for _ in range(actions_count)] for _ in range(states_count)]\n",
    "    for state in range(states_count):\n",
    "        policy[state][np.argmax(q[state])] += (1 - epsilon)\n",
    "    alpha = 1\n",
    "    start_time = time.time()\n",
    "    episodes_rewards = []\n",
    "    for _ in range(600):\n",
    "        step_counter = 0\n",
    "        env.reset()\n",
    "        state = 44\n",
    "        states = [state]\n",
    "        actions = []\n",
    "        rewards = [0]\n",
    "        action = np.random.choice(range(actions_count), p=policy[state])\n",
    "        actions.append(action)\n",
    "        T = math.inf\n",
    "        index = 0\n",
    "        tau = 0\n",
    "        while tau + 1 < T and step_counter < 10000:\n",
    "            step_counter += 1\n",
    "            if index < T:\n",
    "                state, reward, _, _ = env.step(action)\n",
    "                states.append(state)\n",
    "                rewards.append(reward)\n",
    "                if reward == FINAL_STATE_REWARD:\n",
    "                    T = index + 1\n",
    "                else:\n",
    "                    action = np.random.choice(range(actions_count), p=policy[state])\n",
    "                    actions.append(action)\n",
    "            tau = index + 1 - n\n",
    "            if tau >= 0:\n",
    "                if index + 1 >= T:\n",
    "                    G = rewards[T]\n",
    "                else:\n",
    "                    actions_q = 0\n",
    "                    for a in range(actions_count):\n",
    "                        actions_q += (policy[states[index+1]][a]*q[states[index+1]][a])\n",
    "                    G = rewards[index+1] + discount_factor * actions_q\n",
    "                for_start = min(index, T-1)\n",
    "                for k in range(for_start, tau, -1):\n",
    "                    other_actions_q = 0\n",
    "                    for a in range(actions_count):\n",
    "                        if a != actions[k]:\n",
    "                            other_actions_q += (policy[states[k]][a]*q[states[index]][a])\n",
    "                    G = rewards[k] + discount_factor * other_actions_q + discount_factor * policy[states[k]][actions[k]] * G\n",
    "                q[states[tau]][actions[tau]] += (alpha * (G - q[states[tau]][actions[tau]]))\n",
    "                policy[states[tau]] = [epsilon / actions_count for _ in range(actions_count)]\n",
    "                policy[states[tau]][np.argmax(q[states[tau]])] += (1-epsilon)\n",
    "            index += 1\n",
    "        alpha *= 0.99999999\n",
    "        epsilon *= 0.99\n",
    "        episodes_rewards.append(np.sum(rewards))\n",
    "    total_time = time.time() - start_time\n",
    "    return total_time, episodes_rewards\n",
    "\n",
    "episdoes_number = [i for i in range(EPISODES_COUNT)]\n",
    "one_total_time, one_rewards = n_step_tree_backup(1)\n",
    "print(\"One step time: {}\".format(one_total_time))\n",
    "print(\"One step rewards:\")\n",
    "print(one_rewards)\n",
    "plt.plot(episdoes_number, one_rewards)\n",
    "plt.xlabel(\"Episode #\")\n",
    "plt.ylabel(\"Reward\")\n",
    "plt.title(\"Tree back-up with n=1\")\n",
    "plt.show()\n",
    "two_total_time, two_rewards = n_step_tree_backup(2)\n",
    "print(\"Two step time: {}\".format(two_total_time))\n",
    "print(\"Two step rewards:\")\n",
    "print(two_rewards)\n",
    "plt.plot(episdoes_number, two_rewards)\n",
    "plt.xlabel(\"Episode #\")\n",
    "plt.ylabel(\"Reward\")\n",
    "plt.title(\"Tree back-up with n=2\")\n",
    "plt.show()\n",
    "three_total_time, three_rewards = n_step_tree_backup(3)\n",
    "print(\"Three step time: {}\".format(three_total_time))\n",
    "print(\"Three step rewards:\")\n",
    "print(three_rewards)\n",
    "plt.plot(episdoes_number, three_rewards)\n",
    "plt.xlabel(\"Episode #\")\n",
    "plt.ylabel(\"Reward\")\n",
    "plt.title(\"Tree back-up with n=3\")\n",
    "plt.show()"
   ]
  },
  {
   "cell_type": "markdown",
   "metadata": {},
   "source": [
    "As you see the result, tree back-up algorithms get more time to run and they are slower than previous algorithms.\n",
    "It converges not very good and get stuck in obstacles and some how can't reach to target in 10000 steps. We set up limit for steps to avoid get stuck in infinite loop. \n",
    "\n",
    "We can see in plot, our algorithm doesn't converges properly and oscilate very badly.\n",
    "\n",
    "Tree back-up with n=2 has better run time and converges properly after 300 episodes approximately. After learning phase, it gets 3 rewards because it learns game and doesn't get stuck in obstacles. \n",
    "\n",
    "Tree back-up with n=3 get lot of time and it can't converges and needs a lot of steps for an episode and because of that can't reach target in many episodes. Before getting stuck in latest episodes, it reaches to target in some episodes. Tree back-up with this config isn't good with this limit and can't find the answer.\n",
    "\n",
    "## SARSA"
   ]
  },
  {
   "cell_type": "code",
   "execution_count": 221,
   "metadata": {},
   "outputs": [
    {
     "name": "stdout",
     "output_type": "stream",
     "text": [
      "Total time: 3.9725759029388428\n",
      "[-562.0, -347.0, -187.0, -92.0, -202.0, -247.0, -312.0, -177.0, -212.0, -157.0, -57.0, -32.0, -287.0, -152.0, -17.0, -147.0, -42.0, -97.0, -282.0, -97.0, -247.0, -377.0, -17.0, -82.0, -217.0, -102.0, -22.0, -92.0, -142.0, -67.0, -22.0, -2.0, -47.0, -52.0, -147.0, -122.0, -32.0, -12.0, 3.0, -72.0, -12.0, -12.0, -2.0, -12.0, -77.0, -17.0, -12.0, 3.0, -12.0, -27.0, -2.0, -2.0, -37.0, -32.0, -12.0, -2.0, 3.0, 3.0, 3.0, -17.0, -17.0, -2.0, -2.0, -17.0, -82.0, 3.0, 3.0, 3.0, -12.0, -2.0, -37.0, -32.0, 3.0, -12.0, -52.0, -27.0, -12.0, 3.0, -42.0, -12.0, 3.0, -2.0, -67.0, -27.0, -102.0, -27.0, -27.0, -17.0, -2.0, -27.0, -2.0, 3.0, -42.0, -12.0, -7.0, -7.0, -2.0, 3.0, -2.0, 3.0, -27.0, 3.0, 3.0, -2.0, -12.0, -27.0, 3.0, 3.0, 3.0, 3.0, -2.0, -2.0, -2.0, 3.0, 3.0, -12.0, -17.0, -2.0, 3.0, 3.0, 3.0, 3.0, -12.0, 3.0, -2.0, 3.0, 3.0, 3.0, -12.0, 3.0, -2.0, 3.0, -2.0, 3.0, 3.0, 3.0, 3.0, 3.0, 3.0, 3.0, -2.0, -17.0, -2.0, -2.0, 3.0, 3.0, 3.0, 3.0, 3.0, -2.0, 3.0, 3.0, 3.0, -12.0, 3.0, 3.0, 3.0, -2.0, 3.0, 3.0, 3.0, 3.0, 3.0, -2.0, 3.0, 3.0, 3.0, 3.0, 3.0, -17.0, 3.0, 3.0, 3.0, 3.0, 3.0, 3.0, -2.0, 3.0, 3.0, -12.0, -12.0, 3.0, 3.0, 3.0, 3.0, 3.0, 3.0, -2.0, 3.0, 3.0, 3.0, 3.0, 3.0, 3.0, 3.0, 3.0, -2.0, 3.0, 3.0, 3.0, 3.0, -12.0, 3.0, 3.0, 3.0, 3.0, 3.0, 3.0, 3.0, -2.0, 3.0, 3.0, 3.0, 3.0, -2.0, 3.0, -2.0, 3.0, 3.0, 3.0, 3.0, 3.0, 3.0, 3.0, -2.0, 3.0, -2.0, 3.0, 3.0, 3.0, 3.0, 3.0, 3.0, -12.0, 3.0, 3.0, 3.0, 3.0, 3.0, 3.0, 3.0, 3.0, 3.0, 3.0, 3.0, 3.0, -2.0, 3.0, 3.0, 3.0, 3.0, 3.0, 3.0, 3.0, 3.0, 3.0, 3.0, 3.0, 3.0, 3.0, 3.0, 3.0, -2.0, 3.0, 3.0, 3.0, 3.0, 3.0, 3.0, 3.0, 3.0, 3.0, 3.0, 3.0, 3.0, 3.0, 3.0, 3.0, 3.0, 3.0, 3.0, 3.0, 3.0, 3.0, 3.0, 3.0, 3.0, 3.0, 3.0, 3.0, 3.0, 3.0, 3.0, 3.0, 3.0, 3.0, 3.0, -2.0, 3.0, 3.0, 3.0, 3.0, 3.0, 3.0, 3.0, 3.0, -2.0, 3.0, 3.0, 3.0, 3.0, 3.0, 3.0, 3.0, 3.0, 3.0, 3.0, 3.0, 3.0, 3.0, 3.0, 3.0, 3.0, 3.0, 3.0, 3.0, 3.0, 3.0, 3.0, 3.0, 3.0, 3.0, 3.0, 3.0, 3.0, 3.0, 3.0, 3.0, 3.0, 3.0, 3.0, 3.0, 3.0, 3.0, 3.0, 3.0, 3.0, -2.0, 3.0, 3.0, 3.0, 3.0, -2.0, 3.0, 3.0, 3.0, 3.0, 3.0, 3.0, 3.0, 3.0, 3.0, 3.0, 3.0, 3.0, 3.0, 3.0, 3.0, 3.0, 3.0, 3.0, 3.0, 3.0, 3.0, 3.0, 3.0, 3.0, 3.0, 3.0, 3.0, 3.0, -2.0, 3.0, 3.0, 3.0, 3.0, 3.0, 3.0, 3.0, 3.0, 3.0, 3.0, 3.0, 3.0, 3.0, 3.0, 3.0, 3.0, 3.0, 3.0, 3.0, 3.0, 3.0, 3.0, 3.0, 3.0, 3.0, 3.0, 3.0, 3.0, 3.0, 3.0, 3.0, 3.0, -12.0, 3.0, 3.0, 3.0, 3.0, 3.0, 3.0, 3.0, 3.0, 3.0, 3.0, 3.0, 3.0, 3.0, 3.0, 3.0, 3.0, 3.0, 3.0, 3.0, 3.0, 3.0, 3.0, 3.0, 3.0, 3.0, 3.0, 3.0, 3.0, 3.0, 3.0, 3.0, 3.0, 3.0, 3.0, 3.0, 3.0, 3.0, 3.0, 3.0, 3.0, 3.0, 3.0, 3.0, 3.0, 3.0, 3.0, 3.0, 3.0, 3.0, 3.0, 3.0, 3.0, 3.0, 3.0, 3.0, 3.0, 3.0, 3.0, 3.0, 3.0, 3.0, 3.0, 3.0, 3.0, 3.0, 3.0, 3.0, 3.0, 3.0, 3.0, 3.0, 3.0, 3.0, 3.0, 3.0, 3.0, 3.0, 3.0, 3.0, 3.0, 3.0, 3.0, 3.0, 3.0, 3.0, 3.0, 3.0, 3.0, 3.0, 3.0, 3.0, 3.0, 3.0, 3.0, 3.0, 3.0, 3.0, 3.0, 3.0, 3.0, 3.0, 3.0, 3.0, 3.0, 3.0, 3.0, 3.0, 3.0, 3.0, 3.0, 3.0, 3.0, 3.0, 3.0, 3.0, 3.0, 3.0, 3.0, 3.0, 3.0, 3.0, 3.0, 3.0, 3.0, 3.0, 3.0, 3.0, 3.0, 3.0, 3.0, 3.0, 3.0, 3.0, 3.0, 3.0, 3.0, 3.0, 3.0, 3.0, 3.0, 3.0, 3.0, 3.0, 3.0, 3.0, 3.0, 3.0, 3.0, 3.0, 3.0, 3.0, 3.0, 3.0, 3.0, 3.0, 3.0, 3.0, 3.0, 3.0, 3.0, 3.0, 3.0, 3.0, 3.0, 3.0, 3.0, 3.0, 3.0, 3.0, 3.0, 3.0, 3.0, 3.0, 3.0, 3.0, 3.0, 3.0, 3.0, 3.0, 3.0, 3.0, 3.0, 3.0, 3.0, 3.0]\n",
      "SARSA average reward: 0.23076923076923078\n"
     ]
    },
    {
     "data": {
      "image/png": "[encoded data removed]",
      "text/plain": [
       "<Figure size 432x288 with 1 Axes>"
      ]
     },
     "metadata": {
      "needs_background": "light"
     },
     "output_type": "display_data"
    }
   ],
   "source": [
    "env.reset()\n",
    "epsilon = 1\n",
    "alpha = 1\n",
    "q = np.array([[0 for _ in range(actions_count)] for _ in range(states_count)])\n",
    "start_time = time.time()\n",
    "episodes_rewards = []\n",
    "for _ in range(EPISODES_COUNT):\n",
    "    env.reset()\n",
    "    episode_rewards = []\n",
    "    state = 44\n",
    "    best_action = np.argmax(q[state])\n",
    "    probs = [epsilon / actions_count for _ in range(actions_count)]\n",
    "    probs[best_action] += (1-epsilon)\n",
    "    action = np.random.choice(range(actions_count), p=probs)\n",
    "    while True:\n",
    "        state_prim, reward, _, _ = env.step(action)\n",
    "        episode_rewards.append(reward)\n",
    "        best_action = np.argmax(q[state_prim])\n",
    "        probs = [epsilon / actions_count for _ in range(actions_count)]\n",
    "        probs[best_action] += (1-epsilon)\n",
    "        action_prim = np.random.choice(range(actions_count), p=probs)\n",
    "        q[state][action] += (alpha * (reward + discount_factor * q[state_prim][action_prim] - q[state][action]))\n",
    "        state = state_prim\n",
    "        action = action_prim\n",
    "        if reward == FINAL_STATE_REWARD:\n",
    "            break\n",
    "    episodes_rewards.append(np.sum(episode_rewards))\n",
    "    epsilon *= 0.99\n",
    "    alpha *= 0.999\n",
    "end_time = time.time()\n",
    "total_time = end_time - start_time\n",
    "print(\"Total time: {}\".format(total_time))\n",
    "print(episodes_rewards)\n",
    "print(\"SARSA average reward: {}\".format(np.average(episode_rewards)))\n",
    "episdoes_number = [i for i in range(EPISODES_COUNT)]\n",
    "plt.plot(episdoes_number, episodes_rewards)\n",
    "plt.xlabel(\"Episode #\")\n",
    "plt.ylabel(\"Reward\")\n",
    "plt.show()"
   ]
  },
  {
   "cell_type": "markdown",
   "metadata": {},
   "source": [
    "This algorithm has good run time. It's runtime is better than on policy and backup trees but it's slower than off policy and double q-learning.\n",
    "\n",
    "It converges to find target at the end very strongly. It learns game after 100 episodes approximately. It records best average reward in all algorithms because it learns very soon and get less bad rewards.\n",
    "\n",
    "## Two-Step Expected SARSA"
   ]
  },
  {
   "cell_type": "code",
   "execution_count": 222,
   "metadata": {},
   "outputs": [
    {
     "name": "stdout",
     "output_type": "stream",
     "text": [
      "Total time: 2.3258988857269287\n",
      "[-57.0, -22.0, -7.0, -62.0, -372.0, -22.0, -97.0, -102.0, -87.0, -177.0, -97.0, -12.0, -202.0, -252.0, -412.0, -122.0, -77.0, -92.0, -42.0, -37.0, -217.0, -2.0, -42.0, -47.0, -12.0, -17.0, -57.0, -32.0, -147.0, -12.0, -27.0, -12.0, 3.0, -67.0, -92.0, -67.0, -17.0, -132.0, 3.0, -52.0, -42.0, -87.0, -32.0, 3.0, -2.0, -22.0, 3.0, -32.0, -12.0, -2.0, -12.0, -7.0, 3.0, -92.0, -67.0, -12.0, -12.0, 3.0, 3.0, 3.0, 3.0, 3.0, -2.0, 3.0, -2.0, -2.0, -2.0, -12.0, -27.0, -2.0, -2.0, 3.0, -7.0, 3.0, 3.0, -2.0, -32.0, 3.0, 3.0, -7.0, -17.0, -2.0, -2.0, -12.0, -2.0, -32.0, -2.0, -7.0, -57.0, -62.0, 3.0, 3.0, 3.0, 3.0, 3.0, 3.0, -17.0, 3.0, 3.0, 3.0, -2.0, 3.0, 3.0, 3.0, -32.0, -2.0, -17.0, -7.0, -22.0, -2.0, 3.0, -2.0, -2.0, -17.0, -12.0, 3.0, 3.0, -42.0, 3.0, 3.0, -2.0, 3.0, 3.0, -2.0, 3.0, 3.0, 3.0, 3.0, 3.0, 3.0, -17.0, 3.0, 3.0, -12.0, -32.0, -7.0, 3.0, 3.0, 3.0, 3.0, -12.0, -2.0, -12.0, 3.0, -17.0, 3.0, 3.0, -2.0, -12.0, -2.0, 3.0, 3.0, 3.0, -27.0, 3.0, 3.0, -12.0, 3.0, 3.0, 3.0, 3.0, 3.0, 3.0, 3.0, 3.0, 3.0, -2.0, 3.0, 3.0, 3.0, -2.0, 3.0, 3.0, -2.0, 3.0, 3.0, -2.0, 3.0, 3.0, 3.0, -17.0, 3.0, 3.0, 3.0, 3.0, 3.0, -7.0, 3.0, -2.0, 3.0, 3.0, -2.0, -7.0, 3.0, 3.0, -2.0, -12.0, -12.0, 3.0, -2.0, -12.0, -2.0, -12.0, -12.0, -12.0, 3.0, 3.0, -2.0, -2.0, -2.0, 3.0, -2.0, 3.0, -2.0, 3.0, -2.0, 3.0, 3.0, 3.0, -2.0, 3.0, 3.0, 3.0, 3.0, 3.0, 3.0, 3.0, 3.0, 3.0, 3.0, -2.0, 3.0, 3.0, 3.0, 3.0, 3.0, 3.0, 3.0, 3.0, 3.0, 3.0, 3.0, 3.0, 3.0, 3.0, 3.0, 3.0, 3.0, -2.0, 3.0, 3.0, 3.0, 3.0, -2.0, 3.0, 3.0, 3.0, 3.0, 3.0, 3.0, 3.0, 3.0, 3.0, 3.0, -2.0, 3.0, 3.0, 3.0, 3.0, 3.0, 3.0, 3.0, 3.0, 3.0, 3.0, 3.0, 3.0, 3.0, 3.0, 3.0, 3.0, 3.0, 3.0, 3.0, 3.0, 3.0, -2.0, 3.0, 3.0, 3.0, 3.0, 3.0, 3.0, 3.0, 3.0, 3.0, 3.0, 3.0, 3.0, 3.0, 3.0, 3.0, 3.0, 3.0, 3.0, 3.0, 3.0, 3.0, 3.0, 3.0, 3.0, 3.0, 3.0, 3.0, 3.0, 3.0, 3.0, 3.0, 3.0, 3.0, 3.0, 3.0, 3.0, 3.0, 3.0, 3.0, -12.0, 3.0, 3.0, 3.0, -2.0, -12.0, -2.0, 3.0, 3.0, 3.0, 3.0, 3.0, 3.0, 3.0, 3.0, 3.0, 3.0, 3.0, 3.0, 3.0, 3.0, 3.0, 3.0, 3.0, 3.0, 3.0, 3.0, 3.0, 3.0, 3.0, 3.0, 3.0, 3.0, 3.0, 3.0, 3.0, 3.0, 3.0, 3.0, 3.0, 3.0, 3.0, -2.0, 3.0, 3.0, 3.0, 3.0, 3.0, 3.0, 3.0, 3.0, 3.0, 3.0, 3.0, 3.0, 3.0, 3.0, 3.0, 3.0, 3.0, 3.0, 3.0, 3.0, 3.0, 3.0, 3.0, 3.0, 3.0, 3.0, 3.0, 3.0, 3.0, 3.0, 3.0, 3.0, 3.0, 3.0, 3.0, 3.0, 3.0, 3.0, 3.0, 3.0, 3.0, 3.0, 3.0, 3.0, 3.0, 3.0, 3.0, 3.0, 3.0, 3.0, 3.0, 3.0, 3.0, 3.0, 3.0, 3.0, 3.0, 3.0, 3.0, 3.0, 3.0, 3.0, -2.0, 3.0, 3.0, 3.0, 3.0, 3.0, 3.0, 3.0, 3.0, 3.0, 3.0, 3.0, 3.0, 3.0, 3.0, 3.0, 3.0, 3.0, 3.0, 3.0, 3.0, 3.0, 3.0, 3.0, 3.0, 3.0, 3.0, 3.0, 3.0, 3.0, 3.0, 3.0, 3.0, 3.0, 3.0, 3.0, 3.0, 3.0, 3.0, 3.0, 3.0, 3.0, 3.0, 3.0, 3.0, 3.0, 3.0, 3.0, 3.0, 3.0, 3.0, 3.0, 3.0, 3.0, 3.0, 3.0, 3.0, 3.0, 3.0, 3.0, 3.0, 3.0, 3.0, 3.0, 3.0, 3.0, 3.0, 3.0, 3.0, 3.0, 3.0, 3.0, 3.0, 3.0, 3.0, 3.0, 3.0, 3.0, 3.0, 3.0, 3.0, 3.0, 3.0, 3.0, 3.0, 3.0, 3.0, 3.0, 3.0, 3.0, 3.0, 3.0, 3.0, 3.0, 3.0, 3.0, 3.0, 3.0, 3.0, 3.0, 3.0, 3.0, 3.0, 3.0, 3.0, 3.0, 3.0, 3.0, 3.0, 3.0, 3.0, 3.0, 3.0, 3.0, 3.0, 3.0, 3.0, 3.0, 3.0, 3.0, 3.0, 3.0, 3.0, 3.0, 3.0, 3.0, 3.0, 3.0, 3.0, 3.0, 3.0, 3.0, 3.0, 3.0, 3.0, 3.0, 3.0, 3.0, 3.0, 3.0, 3.0, 3.0, 3.0, 3.0, 3.0, 3.0, 3.0, 3.0, 3.0, 3.0, 3.0, 3.0, 3.0, 3.0, 3.0, 3.0, 3.0, 3.0, 3.0, 3.0, 3.0, 3.0, 3.0, 3.0, 3.0, 3.0, 3.0, 3.0, 3.0]\n",
      "Two-step Expected SARSA average reward: 0.5\n"
     ]
    },
    {
     "data": {
      "image/png": "[encoded data removed]",
      "text/plain": [
       "<Figure size 432x288 with 1 Axes>"
      ]
     },
     "metadata": {
      "needs_background": "light"
     },
     "output_type": "display_data"
    }
   ],
   "source": [
    "env.reset()\n",
    "epsilon = 1\n",
    "alpha = 1\n",
    "q = np.array([[0 for _ in range(actions_count)] for _ in range(states_count)])\n",
    "start_time = time.time()\n",
    "episodes_rewards = []\n",
    "for _ in range(EPISODES_COUNT):\n",
    "    env.reset()\n",
    "    episode_rewards = []\n",
    "    state = 44\n",
    "    while True:\n",
    "        best_action = np.argmax(q[state])\n",
    "        probs = [epsilon / actions_count for _ in range(actions_count)]\n",
    "        probs[best_action] += (1-epsilon)\n",
    "        action = np.random.choice(range(actions_count), p=probs)\n",
    "        state_prim, reward, _, _ = env.step(action)\n",
    "        best_action = np.argmax(q[state_prim])\n",
    "        probs = [epsilon / actions_count for _ in range(actions_count)]\n",
    "        probs[best_action] += (1-epsilon)\n",
    "        action_2 = np.random.choice(range(actions_count), p=probs)\n",
    "        state_zeg, reward_2, _, _ = env.step(action_2)\n",
    "        episode_rewards.append(reward)\n",
    "        best_action = np.argmax(q[state_zeg])\n",
    "        probs = [epsilon / actions_count for _ in range(actions_count)]\n",
    "        probs[best_action] += (1-epsilon)\n",
    "        expected_q = 0\n",
    "        for a in range(actions_count):\n",
    "            expected_q += probs[a]*q[state_zeg][a]\n",
    "        q[state][action] += (alpha * (reward + discount_factor * reward_2 + (discount_factor**2) * expected_q - q[state][action]))\n",
    "        state = state_prim\n",
    "        if reward == FINAL_STATE_REWARD:\n",
    "            break\n",
    "    episodes_rewards.append(np.sum(episode_rewards))\n",
    "    epsilon *= 0.99\n",
    "    alpha *= 0.9999999\n",
    "end_time = time.time()\n",
    "total_time = end_time - start_time\n",
    "print(\"Total time: {}\".format(total_time))\n",
    "print(episodes_rewards)\n",
    "print(\"Two-step Expected SARSA average reward: {}\".format(np.average(episode_rewards)))\n",
    "episdoes_number = [i for i in range(EPISODES_COUNT)]\n",
    "plt.plot(episdoes_number, episodes_rewards)\n",
    "plt.xlabel(\"Episode #\")\n",
    "plt.ylabel(\"Reward\")\n",
    "plt.show()"
   ]
  },
  {
   "cell_type": "markdown",
   "metadata": {},
   "source": [
    "This algorithms records acceptable run time. It is better than SARSA because it's get expected return instead of summing over all actions. But it's run time is a little worse than off policy and double Q-learning. \n",
    "\n",
    "It converges to target very fast. After learning game, it's reward is always 3 because it's never get stuck or hit obstacle. Because of that it's very good.\n",
    "\n",
    "It records best averge reward in compare with other 5 algorithms. Its reason is high learning rate of this algorithm in compare with other algorithms. It gets less punishments(negative rewards).\n",
    "\n",
    "It converges, after 100 episodes approximately as we see in plot."
   ]
  },
  {
   "cell_type": "markdown",
   "metadata": {},
   "source": [
    "## Learning speed compare\n",
    "\n",
    "If we see speed as less time for running 600 episodes, our ranking is like below:\n",
    "1. Double Q-learning\n",
    "2. Off-policy MC\n",
    "3. Two-Step Expected SARSA\n",
    "4. SARSA \n",
    "5. On-policy MC\n",
    "6. Tree back-up with n=2\n",
    "7. Tree back-up with n=1\n",
    "8. Tree back-up with n=3\n",
    "\n",
    "Double Q-learning runs very fast because eliminate the harm caused by maximization bias.\n",
    "Tree back-ups runs very slowly becuase they can't reach to target and get stuck.\n",
    "\n",
    "If we see speed as less episodes to get target reward in one episode, our ranking is like below:\n",
    "1. Two-Step Expected SARSA\n",
    "2. SARSA\n",
    "3. Double Q-learning\n",
    "4. Off-policy MC\n",
    "5. On-policy MC\n",
    "6. Tree back-up with n=2\n",
    "- Tree back-up with n=1\n",
    "- Tree back-up with n=3\n",
    "\n",
    "This rankings achieved by observing, reward vs. episode # plots and average rewards in all episodes.\n",
    "If some algorithm converges to good policy(policy that reaches target) and gets less bad rewards, it means it converges sooner because it gets more target rewards and less obstacle rewards(punishment: negative rewards).\n",
    "\n",
    "Two-Step Expected SARSA outperforms because it takes advantage of all the q-values that could be chosen afterwards. It takes probability of each action in account and because of that gets better results.\n",
    "\n",
    "SARSA get good results because it updates in each step and make decision by that in next steps.\n",
    "\n",
    "Double Q-learning has a good performance because it uses twoo q-values to prevent punishments in earlier steps and becuase of that it get better average reward and gets to it's destination sooner.\n",
    "\n",
    "Off-policy lives with behavior and behavior is a epsilon-soft and it's get better but it's main goal is to optimize main policy. becuase of that it gets rank 5.\n",
    "\n",
    "On-policy has bad performance because it has low sampling efficiency as discussed in videos.\n",
    "\n",
    "I think Tree back-up is not suitable choice for this problem. Seeing very far, make it very hard to converge in 10000 steps per episode. It can't make best decision for reaching target and get stuck in infinity loop in many cases. Tree back-up with n=1 and n=3 doesn't converge."
   ]
  },
  {
   "cell_type": "markdown",
   "metadata": {},
   "source": [
    "## Bonus Part\n",
    "In this part, we try to increase learning rate with changing rewards.\n",
    "\n",
    "Decreasing obstacles punishments raises learning speed (considering run time) because algorithms that see low punishments doesn't afraid from punishment and runs faster and goes toward.\n",
    "\n",
    "Increasing obstacles punishments raises learning speed (considering less episodes to learn) because algorithms that see high punishments try to think more and gets higher error term and try to correct itself faster. With doing this, it converges to it's destination in less episodes.\n",
    "\n",
    "We follow second hypothesis. For simulating this, we define new environment with higher obstacle punishments and test some algorithms (Two-step Expected SARSA) in this new environment and compare it with previous result of this algorithm. We change wall punishment from -5 to -10 and sea punishments from -15 to -30 (Double punishments!)."
   ]
  },
  {
   "cell_type": "code",
   "execution_count": 244,
   "metadata": {},
   "outputs": [],
   "source": [
    "UP = 0\n",
    "RIGHT = 1\n",
    "DOWN = 2\n",
    "LEFT = 3\n",
    "\n",
    "class GridworldEnv2(discrete.DiscreteEnv):\n",
    "  metadata = {'render.modes': ['human', 'ansi']}\n",
    "\n",
    "  def __init__(self, shape=[10,10]):\n",
    "    if not isinstance(shape, (list, tuple)) or not len(shape) == 2:\n",
    "        raise ValueError('shape argument must be a list/tuple of length 2')\n",
    "        \n",
    "    self.shape = shape\n",
    "\n",
    "    nS = np.prod(shape)\n",
    "    nA = 4\n",
    "\n",
    "    MAX_Y = shape[0]\n",
    "    MAX_X = shape[1]\n",
    "\n",
    "    P = {}\n",
    "    grid = np.arange(nS).reshape(shape)\n",
    "    it = np.nditer(grid, flags=['multi_index'])\n",
    "\n",
    "    while not it.finished:\n",
    "      s = it.iterindex\n",
    "      y, x = it.multi_index\n",
    "\n",
    "      P[s] = {a : [] for a in range(nA)}\n",
    "\n",
    "      #Reaching target\n",
    "      is_done = lambda s: s == 0\n",
    "\n",
    "      #Due to existance of walls, these moves are not available\n",
    "      no_up = lambda s: s in [44,73,74]\n",
    "      no_down = lambda s: s in [23,24,54]\n",
    "      no_left = lambda s: s in [44,35,54,65]\n",
    "      no_right = lambda s: s in [32,42,52,62]\n",
    "\n",
    "      #Barries in the path\n",
    "      pit = lambda s: s in [13,72,41]\n",
    "      wall = lambda s: s in [43,33,53,34,64,63]\n",
    "\n",
    "      #Rewards of each state\n",
    "      reward = 3.0 if is_done(s) else 0.0\n",
    "      reward = -30.0 if pit(s) else reward\n",
    "      \n",
    "      ns_up = s if y == 0 else s - MAX_X\n",
    "      ns_right = s if x == (MAX_X - 1) else s + 1\n",
    "      ns_down = s if y == (MAX_Y - 1) else s + MAX_X\n",
    "      ns_left = s if x == 0 else s - 1\n",
    "      \n",
    "      P[s][UP] = [(1, ns_up, reward, is_done(ns_up))]\n",
    "      P[s][RIGHT] = [(1.0, ns_right, reward, is_done(ns_right))]\n",
    "      P[s][DOWN] = [(1, ns_down, reward, is_done(ns_down))]\n",
    "      P[s][LEFT] = [(1, ns_left, reward, is_done(ns_left))]\n",
    "\n",
    "      #Terminal state\n",
    "      if is_done(s):\n",
    "        P[s][UP] = [(1.0, s, reward, True)]\n",
    "        P[s][RIGHT] = [(1.0, s, reward, True)]\n",
    "        P[s][DOWN] = [(1.0, s, reward, True)]\n",
    "        P[s][LEFT] = [(1.0, s, reward, True)]\n",
    "\n",
    "      #Encountering walls\n",
    "      if no_up(s):\n",
    "        P[s][UP] = [(1.0, s, -10.0 , False)]                \n",
    "      if no_down(s):\n",
    "        P[s][DOWN] = [(1.0, s, -10.0 , False)]                \n",
    "      if no_right(s):\n",
    "        P[s][RIGHT] = [(1.0, s, -10.0 , False)]  \n",
    "      if no_left(s):\n",
    "        P[s][LEFT] = [(1.0, s, -10.0 , False)] \n",
    "\n",
    "      it.iternext() \n",
    "\n",
    "    # Initial state distribution is uniform\n",
    "    isd = np.zeros(100)\n",
    "    isd[44]=1\n",
    "    self.P = P\n",
    "\n",
    "    super(GridworldEnv2, self).__init__(nS, nA, P, isd)\n",
    "\n",
    "  def _render(self, mode='human', close=False):\n",
    "    if close:\n",
    "      return\n",
    "\n",
    "    outfile = io.StringIO() if mode == 'ansi' else sys.stdout\n",
    "\n",
    "    grid = np.arange(self.nS).reshape(self.shape)\n",
    "    it = np.nditer(grid, flags=['multi_index'])\n",
    "\n",
    "    while not it.finished:\n",
    "      s = it.iterindex\n",
    "      y, x = it.multi_index\n",
    "\n",
    "      if self.s == s and not s==0:\n",
    "        output =  Back.CYAN + Style.BRIGHT + Fore.WHITE +  \"  웃 \" + Style.RESET_ALL if s not in [13,72,41] else Back.BLUE + Style.BRIGHT + Fore.WHITE + \"  웃 \" + Style.RESET_ALL\n",
    "      elif s == 0:\n",
    "          output = Back.GREEN + Style.BRIGHT + Fore.WHITE + \"     \" + Style.RESET_ALL if not self.s==0 else Back.GREEN + Style.BRIGHT + Fore.WHITE +  \"  웃 \" + Style.RESET_ALL\n",
    "      elif s in [13,72,41]:\n",
    "          output = Back.BLUE + \"     \" + Style.RESET_ALL\n",
    "      elif s in [43,33,53,34,64,63]:\n",
    "          output = Back.CYAN + Style.BRIGHT + Fore.BLACK +   \"  █  \"  + Style.RESET_ALL\n",
    "      else:\n",
    "          output = Back.CYAN + Style.BRIGHT + Fore.BLACK +  \"  .  \" + Style.RESET_ALL\n",
    "\n",
    "      if x == 0:\n",
    "          output = output.lstrip()\n",
    "      if x == self.shape[1] - 1:\n",
    "          output = output.rstrip()\n",
    "\n",
    "      outfile.write(output)\n",
    "\n",
    "      if x == self.shape[1] - 1:\n",
    "          outfile.write(\"\\n\")\n",
    "\n",
    "      it.iternext()"
   ]
  },
  {
   "cell_type": "code",
   "execution_count": 250,
   "metadata": {},
   "outputs": [
    {
     "name": "stdout",
     "output_type": "stream",
     "text": [
      "Total time: 20.312728881835938\n",
      "[-97.0, -237.0, -67.0, -317.0, -157.0, -107.0, -47.0, -1287.0, -187.0, -237.0, -67.0, -107.0, -97.0, -47.0, -7.0, -57.0, -217.0, -167.0, -247.0, -67.0, -397.0, -407.0, -47.0, -77.0, -7.0, -7.0, -17.0, -77.0, -47.0, -37.0, -127.0, -47.0, -67.0, -207.0, -7.0, -37.0, -137.0, -37.0, -67.0, -77.0, -27.0, -37.0, -17.0, -57.0, -47.0, -77.0, -77.0, -87.0, -87.0, 3.0, -57.0, -67.0, -57.0, -17.0, -7.0, -97.0, -17.0, -147.0, -87.0, -57.0, -67.0, -107.0, -217.0, -17.0, -27.0, 3.0, -97.0, -367.0, -7.0, -47.0, 3.0, -7.0, -167.0, -117.0, -7.0, 3.0, -7.0, 3.0, 3.0, 3.0, 3.0, -57.0, -37.0, -27.0, -27.0, -27.0, 3.0, -37.0, -7.0, -37.0, -27.0, 3.0, 3.0, -7.0, -17.0, -7.0, 3.0, 3.0, -7.0, 3.0, 3.0, -7.0, 3.0, 3.0, 3.0, -7.0, -87.0, 3.0, -7.0, 3.0, 3.0, 3.0, -7.0, 3.0, 3.0, 3.0, 3.0, 3.0, -27.0, -37.0, -7.0, -37.0, 3.0, -7.0, -37.0, -37.0, 3.0, -27.0, 3.0, 3.0, 3.0, 3.0, -57.0, 3.0, 3.0, -57.0, -7.0, -7.0, 3.0, 3.0, 3.0, -27.0, 3.0, 3.0, 3.0, 3.0, -7.0, 3.0, 3.0, 3.0, 3.0, -7.0, 3.0, 3.0, 3.0, 3.0, -17.0, 3.0, -27.0, -27.0, 3.0, 3.0, 3.0, -7.0, 3.0, 3.0, 3.0, 3.0, -7.0, 3.0, 3.0, -87.0, 3.0, -7.0, -27.0, 3.0, -17.0, -27.0, -7.0, -77.0, -7.0, 3.0, 3.0, 3.0, -17.0, 3.0, 3.0, 3.0, 3.0, -27.0, 3.0, 3.0, -7.0, 3.0, 3.0, -7.0, 3.0, -7.0, -7.0, 3.0, 3.0, 3.0, 3.0, -7.0, 3.0, 3.0, -57.0, -7.0, 3.0, 3.0, 3.0, 3.0, -7.0, 3.0, 3.0, 3.0, 3.0, 3.0, 3.0, 3.0, 3.0, 3.0, 3.0, 3.0, 3.0, 3.0, 3.0, -47.0, 3.0, 3.0, 3.0, 3.0, 3.0, 3.0, 3.0, 3.0, 3.0, 3.0, 3.0, 3.0, 3.0, 3.0, 3.0, 3.0, 3.0, 3.0, 3.0, 3.0, 3.0, 3.0, 3.0, 3.0, 3.0, 3.0, 3.0, -7.0, 3.0, 3.0, -7.0, 3.0, 3.0, 3.0, 3.0, 3.0, 3.0, 3.0, -7.0, 3.0, 3.0, 3.0, 3.0, 3.0, 3.0, 3.0, 3.0, 3.0, 3.0, 3.0, 3.0, 3.0, 3.0, 3.0, 3.0, 3.0, 3.0, 3.0, 3.0, 3.0, 3.0, 3.0, 3.0, 3.0, -7.0, 3.0, 3.0, 3.0, 3.0, 3.0, 3.0, 3.0, 3.0, 3.0, 3.0, 3.0, 3.0, 3.0, 3.0, 3.0, 3.0, 3.0, 3.0, 3.0, 3.0, 3.0, 3.0, 3.0, 3.0, 3.0, 3.0, 3.0, 3.0, 3.0, 3.0, 3.0, 3.0, 3.0, 3.0, -7.0, 3.0, 3.0, 3.0, 3.0, 3.0, -27.0, 3.0, -7.0, 3.0, 3.0, 3.0, 3.0, -7.0, 3.0, 3.0, 3.0, 3.0, 3.0, 3.0, 3.0, 3.0, 3.0, 3.0, 3.0, 3.0, 3.0, 3.0, 3.0, 3.0, -27.0, 3.0, 3.0, 3.0, 3.0, 3.0, 3.0, 3.0, 3.0, 3.0, 3.0, 3.0, 3.0, 3.0, 3.0, 3.0, 3.0, 3.0, 3.0, 3.0, 3.0, 3.0, 3.0, 3.0, 3.0, 3.0, 3.0, 3.0, 3.0, 3.0, 3.0, 3.0, 3.0, 3.0, 3.0, 3.0, 3.0, 3.0, 3.0, 3.0, 3.0, 3.0, 3.0, 3.0, 3.0, 3.0, -7.0, 3.0, 3.0, -7.0, 3.0, 3.0, 3.0, 3.0, 3.0, 3.0, 3.0, 3.0, 3.0, 3.0, 3.0, 3.0, 3.0, 3.0, 3.0, 3.0, 3.0, 3.0, 3.0, 3.0, 3.0, 3.0, 3.0, 3.0, 3.0, 3.0, 3.0, 3.0, 3.0, 3.0, 3.0, 3.0, 3.0, 3.0, 3.0, 3.0, 3.0, 3.0, 3.0, 3.0, 3.0, 3.0, 3.0, -7.0, 3.0, 3.0, 3.0, 3.0, 3.0, 3.0, 3.0, 3.0, 3.0, 3.0, 3.0, -7.0, 3.0, 3.0, 3.0, 3.0, 3.0, 3.0, -7.0, 3.0, 3.0, 3.0, 3.0, 3.0, 3.0, 3.0, 3.0, 3.0, 3.0, 3.0, 3.0, 3.0, 3.0, 3.0, 3.0, 3.0, 3.0, 3.0, 3.0, 3.0, 3.0, 3.0, 3.0, 3.0, 3.0, 3.0, 3.0, 3.0, 3.0, 3.0, 3.0, 3.0, 3.0, 3.0, 3.0, 3.0, -7.0, 3.0, 3.0, 3.0, 3.0, 3.0, 3.0, 3.0, 3.0, 3.0, 3.0, 3.0, 3.0, 3.0, 3.0, 3.0, 3.0, 3.0, 3.0, 3.0, 3.0, 3.0, 3.0, 3.0, 3.0, 3.0, 3.0, 3.0, 3.0, -27.0, -37.0, -7.0, -7.0, 3.0, 3.0, 3.0, 3.0, 3.0, 3.0, 3.0, 3.0, 3.0, 3.0, 3.0, 3.0, 3.0, 3.0, 3.0, 3.0, 3.0, 3.0, 3.0, 3.0, 3.0, 3.0, 3.0, 3.0, 3.0, 3.0, 3.0, 3.0, 3.0, 3.0, 3.0, 3.0, 3.0, 3.0, 3.0, 3.0, 3.0, 3.0, 3.0, 3.0, 3.0, 3.0, 3.0, 3.0, 3.0, 3.0, 3.0, 3.0, 3.0, 3.0, 3.0, 3.0, 3.0, 3.0, 3.0, 3.0, 3.0, 3.0, 3.0, 3.0]\n",
      "Two-step Expected SARSA average reward: -13.933333333333334\n"
     ]
    },
    {
     "data": {
      "image/png": "[encoded data removed]",
      "text/plain": [
       "<Figure size 432x288 with 1 Axes>"
      ]
     },
     "metadata": {
      "needs_background": "light"
     },
     "output_type": "display_data"
    }
   ],
   "source": [
    "env =  GridworldEnv2()\n",
    "env.reset()\n",
    "epsilon = 1\n",
    "alpha = 1\n",
    "q = np.array([[0 for _ in range(actions_count)] for _ in range(states_count)])\n",
    "start_time = time.time()\n",
    "episodes_rewards = []\n",
    "for _ in range(EPISODES_COUNT):\n",
    "    env.reset()\n",
    "    episode_rewards = []\n",
    "    state = 44\n",
    "    while True:\n",
    "        best_action = np.argmax(q[state])\n",
    "        probs = [epsilon / actions_count for _ in range(actions_count)]\n",
    "        probs[best_action] += (1-epsilon)\n",
    "        action = np.random.choice(range(actions_count), p=probs)\n",
    "        state_prim, reward, _, _ = env.step(action)\n",
    "        best_action = np.argmax(q[state_prim])\n",
    "        probs = [epsilon / actions_count for _ in range(actions_count)]\n",
    "        probs[best_action] += (1-epsilon)\n",
    "        action_2 = np.random.choice(range(actions_count), p=probs)\n",
    "        state_zeg, reward_2, _, _ = env.step(action_2)\n",
    "        episode_rewards.append(reward)\n",
    "        best_action = np.argmax(q[state_zeg])\n",
    "        probs = [epsilon / actions_count for _ in range(actions_count)]\n",
    "        probs[best_action] += (1-epsilon)\n",
    "        expected_q = 0\n",
    "        for a in range(actions_count):\n",
    "            expected_q += probs[a]*q[state_zeg][a]\n",
    "        q[state][action] += (alpha * (reward + discount_factor * reward_2 + (discount_factor**2) * expected_q - q[state][action]))\n",
    "        state = state_prim\n",
    "        if reward == FINAL_STATE_REWARD:\n",
    "            break\n",
    "    episodes_rewards.append(np.sum(episode_rewards))\n",
    "    epsilon *= 0.99\n",
    "    alpha *= 0.9999999\n",
    "end_time = time.time()\n",
    "total_time = end_time - start_time\n",
    "print(\"Total time: {}\".format(total_time))\n",
    "print(episodes_rewards)\n",
    "print(\"Two-step Expected SARSA average reward: {}\".format(np.average(episodes_rewards)))\n",
    "episdoes_number = [i for i in range(EPISODES_COUNT)]\n",
    "plt.plot(episdoes_number, episodes_rewards)\n",
    "plt.xlabel(\"Episode #\")\n",
    "plt.ylabel(\"Reward\")\n",
    "plt.show()"
   ]
  },
  {
   "cell_type": "markdown",
   "metadata": {},
   "source": [
    "As you see, our hypotesis is accepted by simulation result. It learns after less than 100 episodes and get good rewards very fast."
   ]
  }
 ],
 "metadata": {
  "colab": {
   "collapsed_sections": [],
   "name": "Environment.ipynb",
   "provenance": []
  },
  "kernelspec": {
   "display_name": "Python 3",
   "language": "python",
   "name": "python3"
  },
  "language_info": {
   "codemirror_mode": {
    "name": "ipython",
    "version": 3
   },
   "file_extension": ".py",
   "mimetype": "text/x-python",
   "name": "python",
   "nbconvert_exporter": "python",
   "pygments_lexer": "ipython3",
   "version": "3.8.5"
  }
 },
 "nbformat": 4,
 "nbformat_minor": 1
}
